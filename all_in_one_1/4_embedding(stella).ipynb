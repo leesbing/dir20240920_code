{
 "cells": [
  {
   "cell_type": "markdown",
   "id": "e0070cdc-39a9-436a-aae5-01abdd3673bc",
   "metadata": {},
   "source": [
    "# NOTE\n",
    "model `stella_en_1.5B_v5` is one of leader model in huggingface's MTEB(Massive Text Embedding Benchmark) [https://huggingface.co/spaces/mteb/leaderboard]\n",
    "\n",
    "**input file**: `V:\\20240920\\all_in_one_1\\3_add_emotion.csv`"
   ]
  },
  {
   "cell_type": "markdown",
   "id": "558dc5cb-6283-4b2b-8100-4d4bd04ab185",
   "metadata": {},
   "source": [
    "# embedding"
   ]
  },
  {
   "cell_type": "markdown",
   "id": "f97eae3d-0950-44ea-a699-a2a5ee06b3a6",
   "metadata": {},
   "source": [
    "## Loading Data "
   ]
  },
  {
   "cell_type": "code",
   "execution_count": 1,
   "id": "1e9f098d-bfd5-43a4-9bbf-0d3804065eea",
   "metadata": {},
   "outputs": [
    {
     "name": "stdout",
     "output_type": "stream",
     "text": [
      "Loading data...\n",
      "\n",
      "Data statistics:\n",
      "Total row number of data: 5583\n",
      "\n",
      "---Check if exist None value in column 'letter':\n",
      "---Number of None values: 0\n",
      "Creating embeddings...\n",
      "\n",
      " !!! The input data for SentenceTransformer() must be list !!!\n",
      "      Verified the type of variable texts is :  <class 'list'>\n"
     ]
    }
   ],
   "source": [
    "from sentence_transformers import SentenceTransformer\n",
    "import pandas as pd\n",
    "import numpy as np\n",
    "\n",
    "print(\"Loading data...\")\n",
    "df = pd.read_csv(r'V:\\20240920\\all_in_one_1\\3_add_emotion.csv')\n",
    "\n",
    "# check if exist NaN in column 'letter'. if so, SentenceTransformer report error\n",
    "print(\"\\nData statistics:\")\n",
    "print(f\"Total row number of data: {len(df)}\")\n",
    "print(\"\\n---Check if exist None value in column 'letter':\")\n",
    "print(f\"---Number of None values: {df['letter'].isnull().sum()}\")\n",
    "   \n",
    "# Creating embeddings\n",
    "print(\"Creating embeddings...\")\n",
    "texts = df['letter'].tolist()\n",
    "\n",
    "print(\"\\n !!! The input data for SentenceTransformer() must be list !!!\")\n",
    "print(f\"      Verified the type of variable texts is :  {type(texts)}\")"
   ]
  },
  {
   "cell_type": "code",
   "execution_count": 2,
   "id": "23a34689-fa3e-4254-99f4-5181a9d7379b",
   "metadata": {},
   "outputs": [
    {
     "data": {
      "text/html": [
       "<div>\n",
       "<style scoped>\n",
       "    .dataframe tbody tr th:only-of-type {\n",
       "        vertical-align: middle;\n",
       "    }\n",
       "\n",
       "    .dataframe tbody tr th {\n",
       "        vertical-align: top;\n",
       "    }\n",
       "\n",
       "    .dataframe thead th {\n",
       "        text-align: right;\n",
       "    }\n",
       "</style>\n",
       "<table border=\"1\" class=\"dataframe\">\n",
       "  <thead>\n",
       "    <tr style=\"text-align: right;\">\n",
       "      <th></th>\n",
       "      <th>index</th>\n",
       "      <th>Unnamed: 0</th>\n",
       "      <th>Coder1</th>\n",
       "      <th>Coder2</th>\n",
       "      <th>ResponseID</th>\n",
       "      <th>NA_column</th>\n",
       "      <th>letter</th>\n",
       "      <th>number_of_characters</th>\n",
       "      <th>coding1</th>\n",
       "      <th>coding2</th>\n",
       "      <th>...</th>\n",
       "      <th>love</th>\n",
       "      <th>nervousness</th>\n",
       "      <th>optimism</th>\n",
       "      <th>pride</th>\n",
       "      <th>realization</th>\n",
       "      <th>relief</th>\n",
       "      <th>remorse</th>\n",
       "      <th>sadness</th>\n",
       "      <th>surprise</th>\n",
       "      <th>neutral</th>\n",
       "    </tr>\n",
       "  </thead>\n",
       "  <tbody>\n",
       "    <tr>\n",
       "      <th>0</th>\n",
       "      <td>0</td>\n",
       "      <td>0</td>\n",
       "      <td>Diya Basu</td>\n",
       "      <td>Alexandra Weiss</td>\n",
       "      <td>R_005dEWNt4jenOql</td>\n",
       "      <td>6108957f175a2eb650221b8e</td>\n",
       "      <td>Greeting Senator,\\n \\n  Women's Global Empower...</td>\n",
       "      <td>560.0</td>\n",
       "      <td>1</td>\n",
       "      <td>1.0</td>\n",
       "      <td>...</td>\n",
       "      <td>0.005607</td>\n",
       "      <td>0.000668</td>\n",
       "      <td>0.062789</td>\n",
       "      <td>0.004094</td>\n",
       "      <td>0.017382</td>\n",
       "      <td>0.002048</td>\n",
       "      <td>0.000658</td>\n",
       "      <td>0.001718</td>\n",
       "      <td>0.000797</td>\n",
       "      <td>0.296698</td>\n",
       "    </tr>\n",
       "  </tbody>\n",
       "</table>\n",
       "<p>1 rows × 153 columns</p>\n",
       "</div>"
      ],
      "text/plain": [
       "   index  Unnamed: 0     Coder1           Coder2         ResponseID  \\\n",
       "0      0           0  Diya Basu  Alexandra Weiss  R_005dEWNt4jenOql   \n",
       "\n",
       "                  NA_column  \\\n",
       "0  6108957f175a2eb650221b8e   \n",
       "\n",
       "                                              letter  number_of_characters  \\\n",
       "0  Greeting Senator,\\n \\n  Women's Global Empower...                 560.0   \n",
       "\n",
       "  coding1 coding2  ...      love nervousness  optimism     pride  realization  \\\n",
       "0       1     1.0  ...  0.005607    0.000668  0.062789  0.004094     0.017382   \n",
       "\n",
       "     relief   remorse   sadness  surprise   neutral  \n",
       "0  0.002048  0.000658  0.001718  0.000797  0.296698  \n",
       "\n",
       "[1 rows x 153 columns]"
      ]
     },
     "execution_count": 2,
     "metadata": {},
     "output_type": "execute_result"
    }
   ],
   "source": [
    "df.head(1)"
   ]
  },
  {
   "cell_type": "markdown",
   "id": "0345926e-7a71-4a96-a3b1-89e53b3e1209",
   "metadata": {},
   "source": [
    "## do embeddings"
   ]
  },
  {
   "cell_type": "code",
   "execution_count": 3,
   "id": "611bc4e3-23d2-4da8-aea2-7bf32ee6da88",
   "metadata": {},
   "outputs": [
    {
     "name": "stdout",
     "output_type": "stream",
     "text": [
      "Beginning  embeddings...\n"
     ]
    },
    {
     "data": {
      "application/vnd.jupyter.widget-view+json": {
       "model_id": "b3effd9781c0468c80150318f14bf1cb",
       "version_major": 2,
       "version_minor": 0
      },
      "text/plain": [
       "Batches:   0%|          | 0/175 [00:00<?, ?it/s]"
      ]
     },
     "metadata": {},
     "output_type": "display_data"
    },
    {
     "name": "stdout",
     "output_type": "stream",
     "text": [
      "The embeddings shape is: (5583, 1024)\n"
     ]
    }
   ],
   "source": [
    "print(\"Beginning  embeddings...\")\n",
    "\n",
    "from sentence_transformers import SentenceTransformer\n",
    "\n",
    "# using model all-mpnet-base-v2\n",
    "# model = SentenceTransformer(r'V:\\huggingface\\model\\sentence-transformers\\all-mpnet-base-v2')\n",
    "# embeddings = model.encode(texts, show_progress_bar=True, max_length=2048)\n",
    "\n",
    "# using model stella_en_1.5B_v5\n",
    "# ！The default dimension is 1024, if you need other dimensions, please clone the model and modify `modules.json` to replace `2_Dense_1024` with another dimension, e.g. `2_Dense_256` or `2_Dense_8192` !\n",
    "# model = SentenceTransformer(r\"V:\\huggingface\\model\\MTEB\\stella_en_1.5B_v5\", trust_remote_code=True).cuda()\n",
    "model = SentenceTransformer(r\"V:\\huggingface\\model\\MTEB\\stella_en_1.5B_v5\", trust_remote_code=True)\n",
    "embeddings = model.encode(texts, show_progress_bar=True, max_length=2048)\n",
    "\n",
    "print(f\"The embeddings shape is: {embeddings.shape}\")"
   ]
  },
  {
   "cell_type": "markdown",
   "id": "c5fa1b90-839b-42a3-918d-80a0f0d6bd80",
   "metadata": {},
   "source": [
    "## save embeddings"
   ]
  },
  {
   "cell_type": "code",
   "execution_count": 4,
   "id": "6e8ebbe3-eda1-408e-b364-3846127c7b5b",
   "metadata": {},
   "outputs": [
    {
     "name": "stdout",
     "output_type": "stream",
     "text": [
      "\n",
      "Saving embeddings...\n"
     ]
    }
   ],
   "source": [
    "# save embeddings \n",
    "print(\"\\nSaving embeddings...\")\n",
    "# np.save(r\"V:\\20240920\\way2\\2_embeddings_stella_en_1.5B_v5.npy\", embeddings)\n",
    "# vnp.save(r\"V:\\20240920\\way2\\2_embeddings_all-mpnet-base-v2.npy\", embeddings)\n",
    "np.save(r\"V:\\20240920\\all_in_one_1\\4_embeddings_stella.npy\", embeddings)"
   ]
  },
  {
   "cell_type": "code",
   "execution_count": null,
   "id": "e87ec157-61a8-448c-8419-1b1dd889e63c",
   "metadata": {},
   "outputs": [],
   "source": []
  },
  {
   "cell_type": "code",
   "execution_count": null,
   "id": "f1d77a33-d448-4f4b-bed6-1d22b9da6dbe",
   "metadata": {},
   "outputs": [],
   "source": []
  },
  {
   "cell_type": "code",
   "execution_count": null,
   "id": "cab1fd6f-58f7-42f8-ac88-f3530358eb45",
   "metadata": {},
   "outputs": [],
   "source": []
  }
 ],
 "metadata": {
  "kernelspec": {
   "display_name": "huggingface_env",
   "language": "python",
   "name": "huggingface_env"
  },
  "language_info": {
   "codemirror_mode": {
    "name": "ipython",
    "version": 3
   },
   "file_extension": ".py",
   "mimetype": "text/x-python",
   "name": "python",
   "nbconvert_exporter": "python",
   "pygments_lexer": "ipython3",
   "version": "3.12.3"
  }
 },
 "nbformat": 4,
 "nbformat_minor": 5
}
