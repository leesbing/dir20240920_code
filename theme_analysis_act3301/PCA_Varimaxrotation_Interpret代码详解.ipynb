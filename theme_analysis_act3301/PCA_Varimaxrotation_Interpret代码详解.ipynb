{
 "cells": [
  {
   "cell_type": "markdown",
   "id": "bb8035be-9c51-4f86-af00-71f23b4e1652",
   "metadata": {},
   "source": [
    "# load package"
   ]
  },
  {
   "cell_type": "code",
   "execution_count": 8,
   "id": "4e8b9961-4799-4ad1-8f4d-605e6eb262e5",
   "metadata": {},
   "outputs": [],
   "source": [
    "import numpy as np\n",
    "import os\n",
    "import pandas as pd\n",
    "from sklearn.decomposition import PCA\n",
    "from sklearn.preprocessing import StandardScaler"
   ]
  },
  {
   "cell_type": "markdown",
   "id": "60378a53-8c3e-478b-8dae-263940efab4e",
   "metadata": {},
   "source": [
    "# 函数 analyze_pca_themes 解释"
   ]
  },
  {
   "cell_type": "markdown",
   "id": "512fdcc6-4bd5-4cae-8fc4-bb2a59e24de8",
   "metadata": {},
   "source": [
    "## 原代码"
   ]
  },
  {
   "cell_type": "code",
   "execution_count": null,
   "id": "0650551c-cfa0-4896-9aad-0ad27db1f49e",
   "metadata": {},
   "outputs": [],
   "source": [
    "def analyze_pca_themes(embeddings_path=r\"V:\\20240920\\theme_analysis_act3301\\text_embeddings_clean_lb2.npy\", \n",
    "                       data_path=r\"V:\\20240920\\theme_analysis_act3301\\act3301_processed_data_clean.csv\",\n",
    "                       n_components = 34,   \n",
    "                       n_top_texts=5):\n",
    "    # Load data\n",
    "    print(\"Loading data...\")\n",
    "    embeddings = np.load(embeddings_path)\n",
    "    df = pd.read_csv(data_path)\n",
    "\n",
    "    # compare length of embedding and data file \n",
    "    print(\"\\n --- compare length of embedding and data file ---\")\n",
    "    print(f\"Embeddings shape: {embeddings.shape}\")\n",
    "    print(f\"length of data file: {len(df['letter'])}\")\n",
    "    \n",
    "    # Check data length consistency\n",
    "    if embeddings.shape[0] != len(df):\n",
    "        raise ValueError(\"The number of embeddings does not match the number of texts in the data file.\")\n",
    "  \n",
    "    # Standardize embeddings\n",
    "    print(\"\\n--- Standardizing embeddings...\")\n",
    "    scaler = StandardScaler()\n",
    "    scaled_embeddings = scaler.fit_transform(embeddings)\n",
    "   \n",
    "    # Apply PCA\n",
    "    print(f\"\\n--- Applying PCA with {n_components} components...\")\n",
    "    pca = PCA(n_components=n_components)\n",
    "    pca_result = pca.fit_transform(scaled_embeddings)\n",
    "   \n",
    "    print(f\"\\n --- Total explained variance: {sum(pca.explained_variance_ratio_):.4f}\")\n",
    "    \n",
    "    # Print explained variance ratio per component\n",
    "    print(\"\\n--- Explained Variance Ratio per Component ---\")\n",
    "    for i, ratio in enumerate(pca.explained_variance_ratio_):\n",
    "        print(f\"Component {i+1}: {ratio:.4f}\")\n",
    "   \n",
    "    # Analyze themes\n",
    "    print(\"\\n\\n --- Analyzing themes in each component...\")\n",
    "    themes = {}\n",
    "    for i in range(n_components):\n",
    "        # Get component scores\n",
    "        scores = pca_result[:, i]\n",
    "        \n",
    "        # Get top and bottom texts\n",
    "        top_indices = np.argsort(scores)[-n_top_texts:]\n",
    "        bottom_indices = np.argsort(scores)[:n_top_texts]\n",
    "        \n",
    "        # Add statistics\n",
    "        themes[f'Component_{i+1}'] = {\n",
    "            'positive': [(df['letter'].iloc[idx], scores[idx]) \n",
    "                         for idx in reversed(top_indices)],\n",
    "            'negative': [(df['letter'].iloc[idx], scores[idx]) \n",
    "                         for idx in bottom_indices],\n",
    "            'score_stats': {\n",
    "                'mean': np.mean(scores),\n",
    "                'std': np.std(scores),\n",
    "                'min': np.min(scores),\n",
    "                'max': np.max(scores)\n",
    "            }\n",
    "        }\n",
    "   \n",
    "    return pca_result, themes"
   ]
  },
  {
   "cell_type": "markdown",
   "id": "7e80e2bc-d430-44c6-bf80-66c1ea0cdaa5",
   "metadata": {},
   "source": [
    "## 拆解代码，详细分析"
   ]
  },
  {
   "cell_type": "markdown",
   "id": "a842b5eb-aa94-4004-9fd2-edc2fa561e83",
   "metadata": {},
   "source": [
    "### 函数的输入参数  \n",
    "\n",
    "- **embeddings_path**: 文本嵌入的文件路径，默认值是：<font color=darkred>r\"V:\\20240920\\theme_analysis_act3301\\text_embeddings_clean_lb2.npy\"</font>\n",
    "- **data_path**: 处理后的数据文件路径，默认值是：<font color=darkred>\"V:\\20240920\\theme_analysis_act3301\\act3301_processed_data_clean.csv\"</font>\n",
    "- **n_components**: PCA中要保留的主成分数量，默认值是：<font color=darkred> 34 </font>\n",
    "- **n_top_texts**: 每个主成分中要分析的文本数量，默认是：<font color=darkred> 5 </font>"
   ]
  },
  {
   "cell_type": "code",
   "execution_count": 10,
   "id": "af2ba2d9-d689-4189-90ca-23860a0f0369",
   "metadata": {},
   "outputs": [],
   "source": [
    "embeddings_path=r\"V:\\20240920\\theme_analysis_act3301\\text_embeddings_clean_lb2.npy\"  \n",
    "data_path=r\"V:\\20240920\\theme_analysis_act3301\\act3301_processed_data_clean.csv\" \n",
    "n_components = 34   \n",
    "n_top_texts=5"
   ]
  },
  {
   "cell_type": "markdown",
   "id": "d2ea30a9-2e3e-4fc0-8241-b48b4c34dd71",
   "metadata": {},
   "source": [
    "### 数据加载\r\n",
    "\r\n",
    "- **embeddings**: 从 embeddings_path 加载的文本嵌入，是一个二维的NumPy数组，每一行代表一个文本的嵌入向量  \r\n",
    "- **df**: 从 data_path 加载的CSV文件，通常是一个DataFrame，包含处理后的文本数据  "
   ]
  },
  {
   "cell_type": "code",
   "execution_count": 72,
   "id": "ca1ba40a-dcd3-4900-9621-fd838d5a5603",
   "metadata": {},
   "outputs": [
    {
     "name": "stdout",
     "output_type": "stream",
     "text": [
      "...Loading numpy embedding data...\n",
      "The shape of embeddings is : (5586, 768) \n",
      "The row number of the embeddings is : 5586 \n",
      "The column number of the embeddings is : 768 \n",
      "\n",
      "...Loading csv data...\n",
      "The shape of csv data is : (5586, 9) \n",
      "The row number of the csv data is : 5586 \n",
      "The column number of the csv data is : 9 \n"
     ]
    }
   ],
   "source": [
    "# Load data\n",
    "print(\"...Loading numpy embedding data...\")          # 为了理解代码添加\n",
    "embeddings = np.load(embeddings_path)\n",
    "print(f\"The shape of embeddings is : {embeddings.shape} \")   # 为了理解代码添加\n",
    "print(f\"The row number of the embeddings is : {embeddings.shape[0]} \")   # 为了理解代码添加\n",
    "print(f\"The column number of the embeddings is : {embeddings.shape[1]} \")   # 为了理解代码添加\n",
    "\n",
    "print(\"\\n...Loading csv data...\")          # 为了理解代码添加\n",
    "df = pd.read_csv(data_path)\n",
    "print(f\"The shape of csv data is : {df.shape} \")   # 为了理解代码添加\n",
    "print(f\"The row number of the csv data is : {df.shape[0]} \")   # 为了理解代码添加\n",
    "print(f\"The column number of the csv data is : {df.shape[1]} \")   # 为了理解代码添加"
   ]
  },
  {
   "cell_type": "markdown",
   "id": "47c5ed7e-4f99-4569-be5e-c2e4d014f9dc",
   "metadata": {},
   "source": [
    "### 数据长度一致性检查\r\n",
    "\r\n",
    "- 打印 Embeddings 的形状和 df 中 letter 列的长度，用于比较两者的行数是否一致。\r\n",
    "- 如果 Embeddings 的行数与 df 中的行数不一致，就抛出 ValueError 异常，提示嵌入数量与文本数量不匹配。然后退出运行。"
   ]
  },
  {
   "cell_type": "code",
   "execution_count": 73,
   "id": "9471fecb-e280-438d-8a93-f7d6d06dc7d5",
   "metadata": {},
   "outputs": [
    {
     "name": "stdout",
     "output_type": "stream",
     "text": [
      "\n",
      " --- compare length of embedding and data file ---\n",
      "Embeddings shape: (5586, 768)\n",
      "length of data file: 5586\n"
     ]
    }
   ],
   "source": [
    "# compare length of embedding and data file \n",
    "print(\"\\n --- compare length of embedding and data file ---\")\n",
    "print(f\"Embeddings shape: {embeddings.shape}\")\n",
    "print(f\"length of data file: {len(df['letter'])}\")\n",
    "    \n",
    "# Check data length consistency\n",
    "if embeddings.shape[0] != len(df):\n",
    "    raise ValueError(\"The number of embeddings does not match the number of texts in the data file.\")"
   ]
  },
  {
   "cell_type": "markdown",
   "id": "38ef238b-19ed-4960-9744-51a133d4223b",
   "metadata": {},
   "source": [
    "### 对Embeddings进行标准化处理\n",
    "\n",
    "- 使用 StandardScaler 对嵌入矩阵进行标准化处理，使得每个特征的均值为0，方差为1。\n",
    "- **注意**: <font color=darkred> StandardScaler() 是按列进行标准化的，而不是按行。 </font>"
   ]
  },
  {
   "cell_type": "code",
   "execution_count": 74,
   "id": "a7e5fce7-fecd-45ac-9a17-a6cee99b0424",
   "metadata": {},
   "outputs": [
    {
     "name": "stdout",
     "output_type": "stream",
     "text": [
      "\n",
      "--- Standardizing embeddings...\n"
     ]
    }
   ],
   "source": [
    "# Standardize embeddings\n",
    "print(\"\\n--- Standardizing embeddings...\")\n",
    "scaler = StandardScaler()\n",
    "scaled_embeddings = scaler.fit_transform(embeddings)"
   ]
  },
  {
   "cell_type": "markdown",
   "id": "87200ca7-5667-4c5a-a938-6670a6edf548",
   "metadata": {},
   "source": [
    "### 进行主成分分析（PCA）\n",
    "\n",
    "- 使用 PCA 对标准化后的 embeddings 进行降维，保留由输入参数指定的 n_components 个主成分。\n",
    "- print打印所有主成分解释的总方差比例，保留4位小数。"
   ]
  },
  {
   "cell_type": "code",
   "execution_count": 75,
   "id": "b1ba84e6-65b6-4850-accb-304d7c9be0e0",
   "metadata": {},
   "outputs": [
    {
     "name": "stdout",
     "output_type": "stream",
     "text": [
      "\n",
      "--- Applying PCA with 34 components...\n",
      "\n",
      " --- Total explained variance: 0.7025\n",
      "\n",
      " --- The pca_result shape is: (5586, 34)\n"
     ]
    }
   ],
   "source": [
    "# Apply PCA\n",
    "print(f\"\\n--- Applying PCA with {n_components} components...\")\n",
    "pca = PCA(n_components=n_components)\n",
    "pca_result = pca.fit_transform(scaled_embeddings)\n",
    "   \n",
    "print(f\"\\n --- Total explained variance: {sum(pca.explained_variance_ratio_):.4f}\")\n",
    "\n",
    "print(f\"\\n --- The pca_result shape is: {pca_result.shape}\")          # 为了理解代码添加"
   ]
  },
  {
   "cell_type": "markdown",
   "id": "f0c53dea-fa66-4cef-95ee-0b8fc974a61a",
   "metadata": {},
   "source": [
    "### 每个主成分解释的方差比例\n",
    "\n",
    "- print每个主成分的解释的方差比例，保留4位小数。"
   ]
  },
  {
   "cell_type": "code",
   "execution_count": 76,
   "id": "c35c359d-50b9-4398-8060-f2a429922adf",
   "metadata": {},
   "outputs": [
    {
     "name": "stdout",
     "output_type": "stream",
     "text": [
      "\n",
      "--- Explained Variance Ratio per Component ---\n",
      "Component 1: 0.1112\n",
      "Component 2: 0.0743\n",
      "Component 3: 0.0731\n",
      "Component 4: 0.0517\n",
      "Component 5: 0.0388\n",
      "Component 6: 0.0344\n",
      "Component 7: 0.0289\n",
      "Component 8: 0.0241\n",
      "Component 9: 0.0211\n",
      "Component 10: 0.0188\n",
      "Component 11: 0.0175\n",
      "Component 12: 0.0157\n",
      "Component 13: 0.0147\n",
      "Component 14: 0.0144\n",
      "Component 15: 0.0128\n",
      "Component 16: 0.0121\n",
      "Component 17: 0.0117\n",
      "Component 18: 0.0111\n",
      "Component 19: 0.0098\n",
      "Component 20: 0.0097\n",
      "Component 21: 0.0093\n",
      "Component 22: 0.0089\n",
      "Component 23: 0.0086\n",
      "Component 24: 0.0081\n",
      "Component 25: 0.0079\n",
      "Component 26: 0.0072\n",
      "Component 27: 0.0071\n",
      "Component 28: 0.0065\n",
      "Component 29: 0.0063\n",
      "Component 30: 0.0057\n",
      "Component 31: 0.0057\n",
      "Component 32: 0.0053\n",
      "Component 33: 0.0052\n",
      "Component 34: 0.0050\n"
     ]
    }
   ],
   "source": [
    "# Print explained variance ratio per component\n",
    "print(\"\\n--- Explained Variance Ratio per Component ---\")\n",
    "for i, ratio in enumerate(pca.explained_variance_ratio_):\n",
    "    print(f\"Component {i+1}: {ratio:.4f}\")"
   ]
  },
  {
   "cell_type": "markdown",
   "id": "835a0829-44f1-4395-aec7-644170288f91",
   "metadata": {},
   "source": [
    "### Analyze themes 段详解\r\n",
    "\r\n",
    "**对每个主成分进行主题分析：**\r\n",
    "  \r\n",
    "- **scores**: 当前主成分的得分。  \r\n",
    "- **top_indices**: 得分最高的 n_top_texts 个文本的索引。  \r\n",
    "- **bottom_indices**: 得分最低的 n_top_texts 个文本的索引。  \r\n",
    "- **positive**: 得分最高的文本及其得分。  \r\n",
    "- **negative**: 得分最低的文本及其得分。  \r\n",
    "- **score_stats**: 当前主成分得分的统计信息（均值、标准差、最小值、最大值）。  "
   ]
  },
  {
   "cell_type": "code",
   "execution_count": 77,
   "id": "986f3d26-ec3d-445d-91ff-25349753e50d",
   "metadata": {},
   "outputs": [
    {
     "name": "stdout",
     "output_type": "stream",
     "text": [
      "\n",
      "\n",
      " --- Analyzing themes in each component...\n"
     ]
    }
   ],
   "source": [
    "# Analyze themes\n",
    "print(\"\\n\\n --- Analyzing themes in each component...\")\n",
    "themes = {}\n",
    "for i in range(n_components):\n",
    "    # Get component scores\n",
    "    scores = pca_result[:, i]   # 提取的是第 i 个主成分的所有样本得分（即每个样本在第 i 个主成分上的投影值\n",
    "        \n",
    "    # Get top and bottom texts\n",
    "    top_indices = np.argsort(scores)[-n_top_texts:]\n",
    "    bottom_indices = np.argsort(scores)[:n_top_texts]\n",
    "        \n",
    "    # Add statistics\n",
    "    themes[f'Component_{i+1}'] = {\n",
    "        'positive': [(df['letter'].iloc[idx], scores[idx]) \n",
    "                        for idx in reversed(top_indices)],\n",
    "        'negative': [(df['letter'].iloc[idx], scores[idx]) \n",
    "                        for idx in bottom_indices],\n",
    "        'score_stats': {\n",
    "                'mean': np.mean(scores),\n",
    "                'std': np.std(scores),\n",
    "                'min': np.min(scores),\n",
    "                'max': np.max(scores)\n",
    "            }\n",
    "        }"
   ]
  },
  {
   "cell_type": "markdown",
   "id": "b5743422-438d-4752-b657-a212b4c82fcd",
   "metadata": {},
   "source": [
    "#### 代码中 `scores = pca_result[:, i]` 的含义 "
   ]
  },
  {
   "cell_type": "markdown",
   "id": "7d6698b5-5d16-4b53-a73a-ab749ca8d2d2",
   "metadata": {},
   "source": [
    "**pca_result[:, i]** 表示从 `pca_result` 矩阵中提取第 `i` 列的所有行数据。具体来说：  \r\n",
    "  \r\n",
    "**语法解释**:  \r\n",
    "  \r\n",
    "- **pca_result** 是一个二维数组（或矩阵），形状为 **(n_samples, n_components)**，其中：  \r\n",
    "- - **n_samples** 是样本的数量（即文本的数量）。  \r\n",
    "- - **n_components** 是主成分的数量（即 PCA 降维后的  维\n",
    "  度）。  \r\n",
    "\r\n",
    "- **[:, i]** 是 NumPy 的片操作，表示：\r\n",
    "\r\n",
    "- - **:** 表示选择所有行。\r\n",
    "- - **i** 表示选择第 i 列。\r\n",
    "\r\n",
    "**具体含义**\r\n",
    "- **pca_result[:, i]** 提取的是第 **i** 个主成分的所有样本得分（即每个样本在第 **i** 个主成分上的投影值）。  \r\n",
    "- 结果是一个一维数组，形状为 **(n_samples,)**，表示每个样本在第 **i** 个主成分上的得分。"
   ]
  },
  {
   "cell_type": "code",
   "execution_count": 78,
   "id": "ed690cd7-2560-467b-a08e-3708ef35607f",
   "metadata": {},
   "outputs": [
    {
     "name": "stdout",
     "output_type": "stream",
     "text": [
      "The shape of 'pca_result[:, 1]' is: (5586,)\n"
     ]
    }
   ],
   "source": [
    "print(f\"The shape of 'pca_result[:, 1]' is: {pca_result[:, 1].shape}\")"
   ]
  },
  {
   "cell_type": "markdown",
   "id": "cfe4f65e-5a45-4f48-8cbf-3c005e38ad61",
   "metadata": {},
   "source": [
    "#### 代码中 `top_indices = np.argsort(scores)[-n_top_texts:]` 的含义\n",
    "\n",
    "**top_indices = np.argsort(scores)[-n_top_texts:]** 的作用是找到得分最高的 n_top_texts 个文本的**索引值**。以下是对这行代码的详细解释：\r",
    "排序后的索引。"
   ]
  },
  {
   "cell_type": "markdown",
   "id": "a3393b23-0124-4ff2-8222-984b3651deb1",
   "metadata": {},
   "source": [
    " <font color=darkred size=3.5> 1. 函数 `np.argsort()` 功能及效果演示  </font>\n",
    "- **功能**：对 scores 数组进行排序，并返回排序后的**索引值**。\n",
    "- **排序方式**：默认是升序排序（从小到大）。\n",
    "- **返回值**：一个与 scores 形状相同的数组，表示排序后的**索引值**。"
   ]
  },
  {
   "cell_type": "code",
   "execution_count": 79,
   "id": "a05c0103-e113-4b25-9a7b-4387b4df0cc7",
   "metadata": {},
   "outputs": [
    {
     "data": {
      "text/plain": [
       "array([4, 1, 3, 0, 2], dtype=int64)"
      ]
     },
     "execution_count": 79,
     "metadata": {},
     "output_type": "execute_result"
    }
   ],
   "source": [
    "# demo code for 理解代码\n",
    "scores_demo = [3.2, 1.5, 4.7, 2.8, 0.9]\n",
    "np.argsort(scores_demo) "
   ]
  },
  {
   "cell_type": "markdown",
   "id": "543ae505-9467-4ce4-9d8a-1b0b3c534021",
   "metadata": {},
   "source": [
    "**上面的代码结果解释**：\r\n",
    "- 序号为 4 的4 个元素（0.9）是最小的，排在第   \n",
    "- 序号为 1 的第 1 个元素（1.5）是第二小的，排在  \n",
    "- 序号为 3 的元素（2.8）是第三小的，排在第 3 位  \n",
    "- 序号为 0 的元素\r\n",
    "第 0 个元素（3.2）是第四小  \n",
    "- 序号为 2 的元素\r\n",
    "\r\n",
    "第 2 个元素（4.7）是  大的，排在第 5 位。的，排在第 5 位。"
   ]
  },
  {
   "cell_type": "markdown",
   "id": "b4bdf09c-36df-4e36-ba04-4a1f41a15288",
   "metadata": {},
   "source": [
    "<font color=darkred size=3.5> 2. `[-n_top_texts:]`功能 </font>  \r\n",
    "\r\n",
    "**功能**:  从排序后的索引中提取最后 `n_top_texts` 个索引 \r\n",
    "\r\n",
    "**解释**：\r\n",
    "\r\n",
    "- `n_top_texts` 表示从数组的末尾开始计数，提取最后 n_top_texts个元素。\r\n",
    "\r\n",
    "- `: `表示提取这些元素的所有内容。"
   ]
  },
  {
   "cell_type": "code",
   "execution_count": 80,
   "id": "f5920183-44dc-411f-9ef3-b184ed8eefa8",
   "metadata": {},
   "outputs": [
    {
     "data": {
      "text/plain": [
       "array([5514, 1993, 5440, 5475, 3726], dtype=int64)"
      ]
     },
     "execution_count": 80,
     "metadata": {},
     "output_type": "execute_result"
    }
   ],
   "source": [
    "scores = pca_result[:, 0]\n",
    "top_indices = np.argsort(scores)[-n_top_texts:]\n",
    "top_indices"
   ]
  },
  {
   "cell_type": "markdown",
   "id": "352aaa7b-6825-4138-b595-ae1560485773",
   "metadata": {},
   "source": [
    "<font color=darkred size=3.5> 3. `top_indices = np.argsort(scores)[-n_top_texts:]` 的作用总结 </font> \r\n",
    "\r\n",
    "`top_indices = np.argsort(scores)[-n_top_texts:]` 的作用是: \r\n",
    "\r\n",
    "1. 对 scores 进行升序排序，找到得分最高的文本索引值。  \r\n",
    "2. 然后从排序后的索引值列表中提取最后 n_top_texts 个索引值，这些索引值可以用来作为行数，查找 df 中对应行的`letter`列的内容，它们就是得分最高的文本。\r\n",
    "\r\n",
    "<font color=darkred> 本例中，pca_result的shape是(5586, 34)，它的每一行对应 df （也就是csv文件）中的每一行。</font>\r\n",
    "\r\n",
    "<font color=darkred size=3.5> 4. 总结 </font>   \r\n",
    "`top_indices = np.argsort(scores)[-n_top_texts:]` 的作用是找到得分最高的 n_top_texts 个文本的索引。  \r\n",
    "它是通过先对 scores 进行升序排序，然后提取排序后索引的最后 n_top_texts 个元素实现的。"
   ]
  },
  {
   "cell_type": "markdown",
   "id": "1b625b21-dad0-44d0-84bf-d95dd6658ee9",
   "metadata": {},
   "source": [
    "#### 从csv文件中取出对应的letter内容的方法\n",
    "\n",
    "代码中使用从 pca_result 中得到的索引值列表 top_indices 和 bottom_indices ，遍历它们，再去 df （也就是csv文件）中逐一寻找对应的行，然后找到 letter 的内容。\n",
    "\n",
    "**逐一寻找对应的行，然后找到该行 letter 内容的演示代码如下**"
   ]
  },
  {
   "cell_type": "code",
   "execution_count": 81,
   "id": "b5b178af-afa8-48f8-a4e3-58e6af035d1e",
   "metadata": {},
   "outputs": [
    {
     "data": {
      "text/plain": [
       "'.senator it is in your power to re introduce act3301 back into discussion. women should have the right to equal liberties to be in position to take on roles as any man should be able to. it is unfair of you to look at the issue no matter what your stance is.'"
      ]
     },
     "execution_count": 81,
     "metadata": {},
     "output_type": "execute_result"
    }
   ],
   "source": [
    "df['letter'].iloc[2]"
   ]
  },
  {
   "cell_type": "markdown",
   "id": "32bf881a-8568-4bc0-93be-0febd08aa54e",
   "metadata": {},
   "source": [
    "#### 为每个主成分创建一个字典，记录该主成分的分析结果。"
   ]
  },
  {
   "cell_type": "code",
   "execution_count": 82,
   "id": "3d540c2a-ae8c-43f9-b79c-b15b5576a672",
   "metadata": {},
   "outputs": [
    {
     "name": "stdout",
     "output_type": "stream",
     "text": [
      "\n",
      "\n",
      " --- Analyzing themes in each component...\n"
     ]
    }
   ],
   "source": [
    "    # Analyze themes\n",
    "    print(\"\\n\\n --- Analyzing themes in each component...\")\n",
    "    themes = {}\n",
    "    for i in range(n_components):\n",
    "        # Get component scores\n",
    "        scores = pca_result[:, i]\n",
    "        \n",
    "        # Get top and bottom texts\n",
    "        top_indices = np.argsort(scores)[-n_top_texts:]\n",
    "        bottom_indices = np.argsort(scores)[:n_top_texts]\n",
    "        \n",
    "        # Add statistics\n",
    "        themes[f'Component_{i+1}'] = {\n",
    "            'positive': [(df['letter'].iloc[idx], scores[idx]) \n",
    "                         for idx in reversed(top_indices)],\n",
    "            'negative': [(df['letter'].iloc[idx], scores[idx]) \n",
    "                         for idx in bottom_indices],\n",
    "            'score_stats': {\n",
    "                'mean': np.mean(scores),\n",
    "                'std': np.std(scores),\n",
    "                'min': np.min(scores),\n",
    "                'max': np.max(scores)\n",
    "            }\n",
    "        }"
   ]
  },
  {
   "cell_type": "markdown",
   "id": "2839f917-f5f7-40af-8878-8930bfc5fd80",
   "metadata": {},
   "source": [
    "具体来说，它包含以下三个部分：\r\n",
    "\r\n",
    "1. **positive**  \r\n",
    "- **作用**：记录得分最高的 n_top_texts 个文本及其对应的得分。\r\n",
    "\r\n",
    "- **实现**：\r\n",
    "\r\n",
    "- - `top_indices` 是得分最高的文本索引。\r\n",
    "  - `reversed(top_indices)` 将 `top_indices` 反转，使得得分最高的文本排在最前面。\r\n",
    "  - `[(df['letter'].iloc[idx], scores[idx]) for idx in reversed(top_indices)]` 是一个列表推导式，遍历反转后的 `top_indices`，提取每个索引对应的文本内容`（df['letter'].iloc[idx]）`和得分`（scores[idx]）`。\r\n",
    "\r\n",
    "**示例代码如下**:"
   ]
  },
  {
   "cell_type": "code",
   "execution_count": 83,
   "id": "445134f5-45ae-4cdd-8544-4bdf90494636",
   "metadata": {},
   "outputs": [
    {
     "name": "stdout",
     "output_type": "stream",
     "text": [
      "[('text4', 2.5), ('text1', 1.5)]\n"
     ]
    }
   ],
   "source": [
    "# demo code\n",
    "demo_top_indices = [0, 3]  # 得分最高的文本索引\n",
    "demo_df = {'letter': ['text1', 'text2', 'text3', 'text4']}  # 文本内容\n",
    "demo_scores = [1.5, 0.8, 1.2, 2.5]  # 得分\n",
    "\n",
    "positive_texts = [(demo_df['letter'][idx], demo_scores[idx]) for idx in reversed(demo_top_indices)]\n",
    "print(positive_texts)"
   ]
  },
  {
   "cell_type": "markdown",
   "id": "303d0f0e-caa7-4155-9cae-870b69f03b13",
   "metadata": {},
   "source": [
    "2. **negative**\r\n",
    "- **作用**：记录得分最低的 n_top_texts 个文本及其对应的得分。\r\n",
    "\r\n",
    "- **实现**：\r\n",
    "- - `bottom_indices` 是得分最低的文本索引。\r\n",
    "- - `[(df['letter'].iloc[idx], scores[idx]) for idx in bottom_indices]` 是一个列表推导式，遍历 `bottom_indices`，提取每个索引对应的文本内容和得分。\r\n",
    "\r\n",
    "3. **score_stats**\r\n",
    "- **作用**：记录当前主成分得分的统计信息。\r\n",
    "\r\n",
    "- **实现**：\r\n",
    "- `np.mean(scores)`：计算得分的均值。\r\n",
    "- `np.std(scores)`：计算得分的标准差。\r\n",
    "- `np.min(scores)`：计算得分的最小值。\r\n",
    "- `np.max(scores)`：计算得分的最大值。"
   ]
  },
  {
   "cell_type": "markdown",
   "id": "ede7a916-4d4e-4da5-9009-07a73576ad98",
   "metadata": {},
   "source": [
    "#### 构造一个 themes 的演示字典"
   ]
  },
  {
   "cell_type": "markdown",
   "id": "3a7de494-0842-44ec-811b-39a527f48e18",
   "metadata": {},
   "source": [
    "##### 构建 themes 字典的各个元素"
   ]
  },
  {
   "cell_type": "code",
   "execution_count": 84,
   "id": "2618e1b8-4cc0-4631-a7ec-773d07997ae1",
   "metadata": {},
   "outputs": [
    {
     "name": "stdout",
     "output_type": "stream",
     "text": [
      "[('text4', 0.9), ('text2', 0.8)]\n",
      "[('text3', -0.7), ('text5', -0.3)]\n",
      "{'mean': 0.24, 'std': 0.63118935352238, 'min': -0.7, 'max': 0.9}\n"
     ]
    }
   ],
   "source": [
    "# demo code\n",
    "demo_df = {'letter': ['text1', 'text2', 'text3', 'text4', 'text5']}  # 文本内容\n",
    "demo_scores = [0.5, 0.8, -0.7, 0.9, -0.3]  # 得分\n",
    "demo_top_indices = [1, 3]  # 得分最高的文本索引\n",
    "demo_bottom_indices = [2, 4]  # 得分最低的文本索引\n",
    "\n",
    "# 构造 positive_texts\n",
    "positive_texts = [(demo_df['letter'][idx], demo_scores[idx]) for idx in reversed(demo_top_indices)]\n",
    "print(positive_texts)\n",
    "\n",
    "# 构造 negative_texts。\n",
    "# 注意：原始代码中此处没有做 reversed 操作，因为程序的运行环境下，此处得到的 score 都是负值\n",
    "negative_texts = [(demo_df['letter'][idx], demo_scores[idx]) for idx in demo_bottom_indices]\n",
    "print(negative_texts)\n",
    "\n",
    "# 构造 score_stats\n",
    "demo_score_stats = {\n",
    "    'mean': np.mean(demo_scores),\n",
    "    'std': np.std(demo_scores),\n",
    "    'min': np.min(demo_scores),\n",
    "    'max': np.max(demo_scores)\n",
    "}\n",
    "print(demo_score_stats)"
   ]
  },
  {
   "cell_type": "markdown",
   "id": "1330bf49-dd86-4b0b-9ff3-7c7da58389ef",
   "metadata": {},
   "source": [
    "##### 手工构造一个 themes 的演示字典"
   ]
  },
  {
   "cell_type": "code",
   "execution_count": 85,
   "id": "a0bff8a4-2147-4414-a9ba-e972a3935dfd",
   "metadata": {},
   "outputs": [
    {
     "data": {
      "text/plain": [
       "{0: {'positive': [('text4', 0.9), ('text2', 0.8)],\n",
       "  'negative': [('text3', -0.7), ('text5', -0.3)],\n",
       "  'score_stats': {'mean': 0.24,\n",
       "   'std': 0.63118935352238,\n",
       "   'min': -0.7,\n",
       "   'max': 0.9}},\n",
       " 1: {'positive': [('text4', 0.9), ('text2', 0.8)],\n",
       "  'negative': [('text3', -0.7), ('text5', -0.3)],\n",
       "  'score_stats': {'mean': 0.24,\n",
       "   'std': 0.63118935352238,\n",
       "   'min': -0.7,\n",
       "   'max': 0.9}}}"
      ]
     },
     "execution_count": 85,
     "metadata": {},
     "output_type": "execute_result"
    }
   ],
   "source": [
    "# demo code\n",
    "demo_df = {'letter': ['text1', 'text2', 'text3', 'text4', 'text5']}  # 文本内容\n",
    "demo_scores = [0.5, 0.8, -0.7, 0.9, -0.3]  # 得分\n",
    "demo_top_indices = [1, 3]  # 得分最高的文本索引\n",
    "demo_bottom_indices = [2, 4]  # 得分最低的文本索引\n",
    "\n",
    "themes_demo = {}\n",
    "themes_demo[0] = {\n",
    "            'positive': [(demo_df['letter'][idx], demo_scores[idx]) for idx in reversed(demo_top_indices)],\n",
    "            'negative': [(demo_df['letter'][idx], demo_scores[idx]) for idx in demo_bottom_indices],\n",
    "            'score_stats': {\n",
    "                'mean': np.mean(demo_scores),\n",
    "                'std': np.std(demo_scores),\n",
    "                'min': np.min(demo_scores),\n",
    "                'max': np.max(demo_scores)\n",
    "            }\n",
    "        }\n",
    "\n",
    "themes_demo[1] = {\n",
    "            'positive': [(demo_df['letter'][idx], demo_scores[idx]) for idx in reversed(demo_top_indices)],\n",
    "            'negative': [(demo_df['letter'][idx], demo_scores[idx]) for idx in demo_bottom_indices],\n",
    "            'score_stats': {\n",
    "                'mean': np.mean(demo_scores),\n",
    "                'std': np.std(demo_scores),\n",
    "                'min': np.min(demo_scores),\n",
    "                'max': np.max(demo_scores)\n",
    "            }\n",
    "        }\n",
    "\n",
    "themes_demo"
   ]
  },
  {
   "cell_type": "markdown",
   "id": "98add0cf-964c-43b7-ada0-5c75336d908b",
   "metadata": {},
   "source": [
    "## 写入xlsx文件代码段详解\n",
    "\n",
    "**先构造一个 themes 的演示字典**"
   ]
  },
  {
   "cell_type": "code",
   "execution_count": 86,
   "id": "ea01fdbe-b73b-4fe2-bb3d-fb64ac4704a9",
   "metadata": {},
   "outputs": [
    {
     "data": {
      "text/plain": [
       "dict_items([(0, {'positive': [('text4', 0.9), ('text2', 0.8)], 'negative': [('text3', -0.7), ('text5', -0.3)], 'score_stats': {'mean': 0.24, 'std': 0.63118935352238, 'min': -0.7, 'max': 0.9}}), (1, {'positive': [('text4', 0.9), ('text2', 0.8)], 'negative': [('text3', -0.7), ('text5', -0.3)], 'score_stats': {'mean': 0.24, 'std': 0.63118935352238, 'min': -0.7, 'max': 0.9}})])"
      ]
     },
     "execution_count": 86,
     "metadata": {},
     "output_type": "execute_result"
    }
   ],
   "source": [
    "# 先构造一个 themes 的演示字典\n",
    "demo_df = {'letter': ['text1', 'text2', 'text3', 'text4', 'text5']}  # 文本内容\n",
    "demo_scores = [0.5, 0.8, -0.7, 0.9, -0.3]  # 得分\n",
    "demo_top_indices = [1, 3]  # 得分最高的文本索引\n",
    "demo_bottom_indices = [2, 4]  # 得分最低的文本索引\n",
    "\n",
    "themes_demo = {}\n",
    "themes_demo[0] = {\n",
    "            'positive': [(demo_df['letter'][idx], demo_scores[idx]) for idx in reversed(demo_top_indices)],\n",
    "            'negative': [(demo_df['letter'][idx], demo_scores[idx]) for idx in demo_bottom_indices],\n",
    "            'score_stats': {\n",
    "                'mean': np.mean(demo_scores),\n",
    "                'std': np.std(demo_scores),\n",
    "                'min': np.min(demo_scores),\n",
    "                'max': np.max(demo_scores)\n",
    "            }\n",
    "        }\n",
    "\n",
    "themes_demo[1] = {\n",
    "            'positive': [(demo_df['letter'][idx], demo_scores[idx]) for idx in reversed(demo_top_indices)],\n",
    "            'negative': [(demo_df['letter'][idx], demo_scores[idx]) for idx in demo_bottom_indices],\n",
    "            'score_stats': {\n",
    "                'mean': np.mean(demo_scores),\n",
    "                'std': np.std(demo_scores),\n",
    "                'min': np.min(demo_scores),\n",
    "                'max': np.max(demo_scores)\n",
    "            }\n",
    "        }\n",
    "\n",
    "themes_demo.items()"
   ]
  },
  {
   "cell_type": "markdown",
   "id": "9de169d0-7043-4c82-b0ba-44d1384f7dc0",
   "metadata": {},
   "source": [
    "### 1. `for component, theme_data in themes.items()` 的作用 \n",
    "\n",
    "`themes.items()`代表遍历并提取字典themes中的所有元素\n",
    "\n",
    "**演示代码如下**:"
   ]
  },
  {
   "cell_type": "code",
   "execution_count": 87,
   "id": "d771c7ed-aad9-4638-82b0-df8046d89add",
   "metadata": {},
   "outputs": [
    {
     "name": "stdout",
     "output_type": "stream",
     "text": [
      "0\n",
      "{'positive': [('text4', 0.9), ('text2', 0.8)], 'negative': [('text3', -0.7), ('text5', -0.3)], 'score_stats': {'mean': 0.24, 'std': 0.63118935352238, 'min': -0.7, 'max': 0.9}}\n",
      "1\n",
      "{'positive': [('text4', 0.9), ('text2', 0.8)], 'negative': [('text3', -0.7), ('text5', -0.3)], 'score_stats': {'mean': 0.24, 'std': 0.63118935352238, 'min': -0.7, 'max': 0.9}}\n"
     ]
    }
   ],
   "source": [
    "for component, theme_data in themes_demo.items():\n",
    "    print(component)\n",
    "    print(theme_data)"
   ]
  },
  {
   "cell_type": "markdown",
   "id": "75f6f4c6-d2be-4895-82d2-0c348778fb5b",
   "metadata": {},
   "source": [
    "### 2. 构建3个 df，并写入excel文件的不同sheet \n",
    "\n",
    "**演示代码如下**:"
   ]
  },
  {
   "cell_type": "code",
   "execution_count": 88,
   "id": "a2c0c9ad-43a6-4570-b0c9-4382141dae08",
   "metadata": {},
   "outputs": [],
   "source": [
    "output_path = r\"V:\\20240920\\theme_analysis_act3301\\xlsxwriter_demo.xlsx\"\n",
    "with pd.ExcelWriter(output_path, engine='xlsxwriter') as writer:\n",
    "    for component, theme_data in themes_demo.items():\n",
    "        # Create a DataFrame for positive examples\n",
    "        positive_df = pd.DataFrame(theme_data['positive'], columns=['Text', 'Score'])\n",
    "        positive_df.to_excel(writer, sheet_name=f\"{component}_Positive\", index=False)\n",
    "            \n",
    "        # Create a DataFrame for negative examples\n",
    "        negative_df = pd.DataFrame(theme_data['negative'], columns=['Text', 'Score'])\n",
    "        negative_df.to_excel(writer, sheet_name=f\"{component}_Negative\", index=False)\n",
    "            \n",
    "        # Add statistics to the Excel file\n",
    "        stats_df = pd.DataFrame([theme_data['score_stats']])\n",
    "        stats_df.to_excel(writer, sheet_name=f\"{component}_Stats\", index=False)"
   ]
  },
  {
   "cell_type": "code",
   "execution_count": null,
   "id": "6c3cfe9e-e910-4cfd-a792-adc9d26ad510",
   "metadata": {},
   "outputs": [],
   "source": []
  },
  {
   "cell_type": "code",
   "execution_count": null,
   "id": "e8c2e84f-b5bf-4ff9-bc75-58abe8d39358",
   "metadata": {},
   "outputs": [],
   "source": []
  },
  {
   "cell_type": "code",
   "execution_count": null,
   "id": "6acd8e85-70f2-4b59-b6fe-fa4c444e0273",
   "metadata": {},
   "outputs": [],
   "source": []
  },
  {
   "cell_type": "code",
   "execution_count": null,
   "id": "f3ea281c-1026-4c4d-9490-51e0111c6f6b",
   "metadata": {},
   "outputs": [],
   "source": []
  },
  {
   "cell_type": "code",
   "execution_count": null,
   "id": "b8b00578-02dc-4af4-9924-f435d29756cb",
   "metadata": {},
   "outputs": [],
   "source": []
  },
  {
   "cell_type": "markdown",
   "id": "1e55ef93-e885-4f47-baa7-30a0fd8983ce",
   "metadata": {},
   "source": [
    "<font color=darkred size=3.5> 主题分析 </font>"
   ]
  },
  {
   "cell_type": "code",
   "execution_count": null,
   "id": "3f2858bc-838d-4e40-baeb-ca4401336acc",
   "metadata": {},
   "outputs": [],
   "source": []
  },
  {
   "cell_type": "code",
   "execution_count": null,
   "id": "37de56da-ed78-4a4b-a80e-87eca436e8ad",
   "metadata": {},
   "outputs": [],
   "source": []
  },
  {
   "cell_type": "code",
   "execution_count": null,
   "id": "4b1b7a6b-a6c9-4bcd-8819-e251b1d457a5",
   "metadata": {},
   "outputs": [],
   "source": []
  },
  {
   "cell_type": "code",
   "execution_count": null,
   "id": "1da7ad51-62fe-4965-821d-f0b383bbd448",
   "metadata": {},
   "outputs": [],
   "source": []
  },
  {
   "cell_type": "code",
   "execution_count": null,
   "id": "002b0cc5-1b45-4578-83ab-3e53ea16ce1b",
   "metadata": {},
   "outputs": [],
   "source": []
  }
 ],
 "metadata": {
  "kernelspec": {
   "display_name": "Python 3 (ipykernel)",
   "language": "python",
   "name": "python3"
  },
  "language_info": {
   "codemirror_mode": {
    "name": "ipython",
    "version": 3
   },
   "file_extension": ".py",
   "mimetype": "text/x-python",
   "name": "python",
   "nbconvert_exporter": "python",
   "pygments_lexer": "ipython3",
   "version": "3.12.3"
  }
 },
 "nbformat": 4,
 "nbformat_minor": 5
}
