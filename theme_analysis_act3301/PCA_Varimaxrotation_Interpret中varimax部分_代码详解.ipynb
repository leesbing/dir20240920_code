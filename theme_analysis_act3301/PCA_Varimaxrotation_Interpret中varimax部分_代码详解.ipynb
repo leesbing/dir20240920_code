{
 "cells": [
  {
   "cell_type": "markdown",
   "id": "db53538f-3121-497d-ba5b-e19eee89a9d8",
   "metadata": {},
   "source": [
    "# load package"
   ]
  },
  {
   "cell_type": "code",
   "execution_count": 1,
   "id": "b716201d-bc52-4195-a52c-ffea4ab7f280",
   "metadata": {},
   "outputs": [],
   "source": [
    "import numpy as np\n",
    "import pandas as pd\n",
    "from sklearn.decomposition import PCA\n",
    "from sklearn.preprocessing import StandardScaler\n",
    "from factor_analyzer.rotator import Rotator"
   ]
  },
  {
   "cell_type": "markdown",
   "id": "09086c9c-8129-4dfe-8a24-a4103b844b3f",
   "metadata": {},
   "source": [
    "# 数据流详解\n",
    "\n",
    "1. 输入数据的核心是5586行文本。  \n",
    "2. 经过 embedding 之后，得到的是一个numpy矩阵，shape 是 (5586, 768)。这个 embeddings 矩阵保存在文件 text_embeddings_clean_lb2.npy 中。  \n",
    "3. 再对这个 embedding 矩阵进行标准化操作， 得到 `scaled_embeddings`，可以将 `scaled_embeddings` 理解为所有5586个文本在768维度空间的坐标值的集合。  \n",
    "4. 第一次PCA降维的目的是找到期望的维度数量，为第二次降维做准备。它得到的pca_result，是一个二维数组，形状为 `(n_samples:5586, n_components:34)`，表示每个样本在主成分空间中的得分。这个值在本段代码中没有后续使用。  \n",
    "5. 第二次PCA降维，得到的一个名为 `pca` 的 object（对象，计算机术语），它的属性 `pca.components_` 是 PCA 模型计算得到的**主成分的特征向量**（又称为**载荷**或**主成分载荷**），其形状为 `(n_components, n_features)`，其中：\n",
    "- - `n_components` 是保留的主成分数量，本例中是34。\n",
    "- - `n_features` 是原始数据的特征数量（即每个样本的原始维度），本例中是768。\n",
    "  - 本例中  `pca.components_` 的形状是: (34, 768)  \n",
    "\n",
    "6. 对 `pca.components_` 进行转置，得到变量 `loadings`。  本例中它的形状是: (768, 34)\n",
    "7. 再对变量 `loadings` 进行 Varimax rotation 操作，得到变量 `rotated_loadings` 。这个转换后得到的变量 `rotated_loadings` 与旧变量 `loadings` 形状相同，但是内部的值不同。 在本例中 `rotated_loadings`的形状是: (768, 34)\n",
    "8. 通过 `rotated_scores = np.dot(scaled_embeddings, rotated_loadings)` 将5586个文本在768维度空间的坐标值，转换到，经过PCA降维和 Varimax rotation 之后，得到的**新坐标系**中的值。这些文本在新坐标系中的值的集合就是 `rotated_scores` , `rotated_scores` 的形状是: (5586, 34)"
   ]
  },
  {
   "cell_type": "markdown",
   "id": "b2d8052a-484e-432c-a3e0-c911eaf25827",
   "metadata": {},
   "source": [
    "## 主成分的特征向量解读\n",
    "\n",
    "在主成分分析（PCA）中，**主成分的特征向量**（也称为**载荷**或**主成分载荷**）是 PCA 模型计算的关键结果之一。它们表示数据在主成分空间中的方向，具体来说，特征向量描述了每个主成分如何由原始特征线性组合而成。\r\n",
    "\r\n",
    "**特征向量的定义**  \r\n",
    "- 特征向量是 PCA 模型计算的权重向量，形状为 (n_components, n_features)。\r\n",
    "- 每个特征向量对应一个主成分，表示该主成分在原始特征空间中的方向。\r\n",
    "- 特征向量的每个元素表示原始特征对该主成分的贡献程度。\r\n",
    "\r\n",
    "**特征向量的作用**\r\n",
    "1. **解释主成分：**\r\n",
    "- - 特征向量可以帮助解释每个主成分与原始特征之间的关系。  \r\n",
    "- - 例如，如果某个特征向量的某个元素值很大（接近 1 或 -1），说明该原始特征对该主成分的贡献很大。\r\n",
    "\r\n",
    "2. **降维：**\r\n",
    "- - 特征向量用于将数据从高维空间投影到低维的主成分空间。\r\n",
    "- - 通过矩阵乘法，可以将标准化后的数据（scaled_embeddings）与特征向量相乘，得到降维后的数据。\r\n",
    "\r\n",
    "3. **旋转：**\r\n",
    "- - 在因子分析中，特征向量可以用于旋转（如 Varimax 旋转），以提高主成分的可解释性。 \r\n",
    " \r\n",
    "**总结**\r\n",
    "- **主成分的特征向量**是 PCA 模型计算的权重向量，表示每个主成分如何由原始特征线性组合而成。  \r\n",
    "- 特征向量的形状为 **(n_components, n_features)**    \r\n",
    "- 特征向量可以帮助解释主成分与原始特征之间的关系，并用于降维和旋转。  \r\n",
    "- 在 **sklearn** 中，特征向量可以通过 `pca.components_` 属性获取。"
   ]
  },
  {
   "cell_type": "markdown",
   "id": "3ff25a3b-69be-4f36-bac3-ef40eab254b4",
   "metadata": {},
   "source": [
    "# 代码段 `get the new score after varimax rotation` 解释"
   ]
  },
  {
   "cell_type": "markdown",
   "id": "82789f33-5e94-4aa6-8a59-cb87f17c1a29",
   "metadata": {},
   "source": [
    "## 总结 \r",
    "- 这段代码的整个过程符合因子分析的标准流程。\n",
    "- 这段代码得到的因子更加贴近 embedding 的768个原始维度，不像PCA得到的主成分是768个原始维度的正交线性组合。  \n",
    "- \n",
    "这段代码的数学计算逻辑是正确的。它首先对数据进行标准化，然后通过PCA降维，接着使用Varimax旋转来增强因子的解释性，最后将数据投影到旋转后**的主成**分上并保存结果\n",
    "\n",
    "**补充说明**  \n",
    "1. varimax 旋转的目的是使得到的**主成分**更易于解释。为此，旋转后的因子载荷矩阵中，各个**主成分**会在某些**因子**上具有较高的载荷，而在其他因子上具有较低的载荷。\n",
    "- 本例中，**因子**是 embedding 得到的768个维度。本例共有768个因子\n",
    "- 本例中，得到的**主成分**是共有34个\n",
    " \n",
    "2. 虽然与PCA分析部分代码相同，这段因子分析代码得到的仍然是34个新的**主成分**。但是这34个**主成分**的实质却是不同的，区别如下：\n",
    "- PCA分析部分代码得到的34个**主成分** 中，每个主成分是 embedding 的768个维度的**线性组合**，这个**线性组合**的计算由**主成分的特征向量**（也称为**载荷**或**主成分载荷**）表达，本段代码中就是`pca.components_.`。\n",
    "- - PCA得到的**主成分** 互相是**正交**的。  \n",
    "- 这段因子分析代码得到的34个**主成分** 中，每个主成分也是 embedding 的768个维度的**线性组合**。本段代码中，这个**线性组合**的就是 `rotated_loadings` 。\n",
    "- - 因子分析得到的**主成分** 互相不是正交的，而是会让：各个**主成分**会在某些**因子**上具有较高的载荷，而在其他因子上具有较低的载荷。从而提高可解释性。。"
   ]
  },
  {
   "cell_type": "markdown",
   "id": "a94e5f53-320b-4854-920b-c503f81c9525",
   "metadata": {},
   "source": [
    "## 原代码  "
   ]
  },
  {
   "cell_type": "code",
   "execution_count": 11,
   "id": "ab94721f-18ad-4514-b681-ed62725370eb",
   "metadata": {},
   "outputs": [
    {
     "name": "stdout",
     "output_type": "stream",
     "text": [
      "Standardizing embeddings...\n",
      "Rotated Scores' shape: (5586, 34)\n"
     ]
    }
   ],
   "source": [
    "import numpy as np\n",
    "import pandas as pd\n",
    "from sklearn.decomposition import PCA\n",
    "from sklearn.preprocessing import StandardScaler\n",
    "from factor_analyzer.rotator import Rotator\n",
    "\n",
    "explained_variance_ratio = 0.7   # 因为是截取的代码片段，所以需要设置这个参数   \n",
    "\n",
    "# Step 1: Load the Data\n",
    "embeddings_path = r\"V:\\20240920\\theme_analysis_act3301\\text_embeddings_clean_lb2.npy\"\n",
    "data_path = r\"V:\\20240920\\theme_analysis_act3301\\act3301_processed_data_clean.csv\"\n",
    "\n",
    "embeddings = np.load(embeddings_path)\n",
    "df = pd.read_csv(data_path)\n",
    "\n",
    "# Step 2: Standardize the Embeddings\n",
    "print(\"Standardizing embeddings...\")\n",
    "scaler = StandardScaler()\n",
    "scaled_embeddings = scaler.fit_transform(embeddings)\n",
    "\n",
    "# Step 3: Perform PCA and Varimax Rotation\n",
    "# Perform PCA to determine the number of components explaining 90% variance\n",
    "pca = PCA()\n",
    "pca_result = pca.fit_transform(scaled_embeddings)\n",
    "cumulative_variance = pca.explained_variance_ratio_.cumsum()\n",
    "threshold = explained_variance_ratio         # keep same as themes analysis\n",
    "n_components = np.argmax(cumulative_variance >= threshold) + 1\n",
    "\n",
    "# Fit PCA with the selected number of components\n",
    "pca = PCA(n_components=n_components)\n",
    "pca.fit(scaled_embeddings)\n",
    "\n",
    "# Extract PCA loadings and transpose them\n",
    "loadings = pca.components_.T\n",
    "\n",
    "# Apply Varimax rotation\n",
    "rotator = Rotator(method='varimax')\n",
    "rotated_loadings = rotator.fit_transform(loadings)\n",
    "\n",
    "# Step 4: Project Data onto Rotated Components\n",
    "# Calculate the new scores by multiplying the standardized embeddings with the rotated loadings\n",
    "rotated_scores = np.dot(scaled_embeddings, rotated_loadings)\n",
    "\n",
    "# Step 5: Save the New Scores\n",
    "# Save the rotated scores to a new file\n",
    "output_path = r\"V:\\20240920\\theme_analysis_act3301\\rotated_scores.npy\"\n",
    "np.save(output_path, rotated_scores)\n",
    "\n",
    "# Print the shape of the rotated scores\n",
    "print(f\"Rotated Scores' shape: {rotated_scores.shape}\")\n",
    "\n",
    "# Optional: Save the rotated scores with corresponding text data to a CSV file\n",
    "rotated_scores_df = pd.DataFrame(rotated_scores, columns=[f\"Rotated_Component_{i+1}\" for i in range(n_components)])\n",
    "rotated_scores_df[\"letter\"] = df[\"letter\"].values\n",
    "rotated_scores_df.to_csv(r\"V:\\20240920\\theme_analysis_act3301\\rotated_scores_with_text.csv\", index=False)"
   ]
  },
  {
   "cell_type": "markdown",
   "id": "77bde424-5044-4904-83a8-4217de070b03",
   "metadata": {},
   "source": [
    "## 拆解代码，详细分析"
   ]
  },
  {
   "cell_type": "markdown",
   "id": "c7910e06-772d-4fa7-8e13-c83e6e49e3bd",
   "metadata": {},
   "source": [
    "### Step 1 & 2 代码分析"
   ]
  },
  {
   "cell_type": "code",
   "execution_count": 3,
   "id": "9f347fda-226d-492a-9832-754b32cd3016",
   "metadata": {},
   "outputs": [
    {
     "name": "stdout",
     "output_type": "stream",
     "text": [
      "Standardizing embeddings...\n"
     ]
    }
   ],
   "source": [
    "# Step 1: Load the Data\n",
    "embeddings_path = r\"V:\\20240920\\theme_analysis_act3301\\text_embeddings_clean_lb2.npy\"\n",
    "data_path = r\"V:\\20240920\\theme_analysis_act3301\\act3301_processed_data_clean.csv\"\n",
    "\n",
    "embeddings = np.load(embeddings_path)\n",
    "df = pd.read_csv(data_path)\n",
    "\n",
    "# Step 2: Standardize the Embeddings\n",
    "print(\"Standardizing embeddings...\")\n",
    "scaler = StandardScaler()\n",
    "scaled_embeddings = scaler.fit_transform(embeddings)"
   ]
  },
  {
   "cell_type": "markdown",
   "id": "79423895-fa38-466f-a786-6f657822710e",
   "metadata": {},
   "source": [
    "### Step 3 代码分析\r\n",
    "\r\n",
    "**这里的代码逻辑与函数 `analyze_pca_themes` 存在不同：**\r\n",
    "1. PCA计算次数不同：  \r\n",
    "- 函数 `analyze_pca_themes` 在调用时，直接指定了降维的数量参数 `n_components`，只进行一次PCA计算\r\n",
    "- 此处，根据参数 `explained_variance_ratio`，做第一次PCA计算，得到降维的数量参数 `n_components` ，然后根据第一次PCA计算得到的降维的数量参数 `n_components` ，再做第二次PCA计算。\r\n",
    "2. PCA结果保存不同：  \r\n",
    "- 函数 `analyze_pca_themes` 中，通过代码 `pca_result = pca.fit_transform(scaled_embeddings)`将PCA的结果中的**主成分得分**显式保存在名字为 `pca_result` 的二维数组（或矩阵）中，供后续使用。因为 `fit_transform` 返回降维后的数据，即**主成分得分**。\r\n",
    "- 此处，`pca.fit(scaled_embeddings)` 则是将PCA得到的结果隐式保存在名为 pca 的 object（对象，计算机术语）的各个属性中。关键属性属性如下：\r\n",
    "- - `pca.components_`：形状为 `(n_components, n_features)`，表示每个主成分的权重（即特征向量）。   \r\n",
    "  - `pca.explained_variance_ratio_`：形状为 `(n_components,)`，表示每个主成分解释的方差比例。  \r\n",
    "  - `pca.explained_variance_`：形状为 `(n_components,)`，表示每个主成分解释的方差值。  \r\n",
    "  - `pca.mean_`：形状为 `(n_features,)`，表示数据的均值（在标准化后通常接近 0）。 "
   ]
  },
  {
   "cell_type": "code",
   "execution_count": 9,
   "id": "4ac20c08-264b-495e-a106-5034e6d126ef",
   "metadata": {},
   "outputs": [
    {
     "name": "stdout",
     "output_type": "stream",
     "text": [
      "\n",
      " --- The shape of 'pca_result' is: (5586, 768)\n",
      " --- The shape of 'pca.components_' is: (34, 768)\n",
      " --- 注意 'pca_result' 和 'pca.components_' 两者的区别\n",
      "\n",
      " --- The shape of loadings is: (768, 34)\n",
      "\n",
      " --- The shape of rotated_loadings is: (768, 34)\n"
     ]
    }
   ],
   "source": [
    "explained_variance_ratio = 0.7   # 为了理解代码添加，因为是截取的代码片段，所以需要设置这个参数  \n",
    "\n",
    "# Step 3: Perform PCA and Varimax Rotation\n",
    "# Perform PCA to determine the number of components explaining 90% variance\n",
    "pca = PCA()\n",
    "pca_result = pca.fit_transform(scaled_embeddings)      # fit_transform()得到降维后的数据，即**主成分得分**\n",
    "cumulative_variance = pca.explained_variance_ratio_.cumsum()\n",
    "threshold = explained_variance_ratio         # keep same as themes analysis\n",
    "n_components = np.argmax(cumulative_variance >= threshold) + 1\n",
    "print(f\"\\n --- The shape of 'pca_result' is: {pca_result.shape}\")  # 为了理解代码添加, 行是文本数量， 列是原始 embeddings 的768个维度\n",
    "\n",
    "# Fit PCA with the selected number of components\n",
    "pca = PCA(n_components=n_components)            \n",
    "pca.fit(scaled_embeddings)     #  在执行 `pca.fit()` 之后，PCA 模型的所有结果会保存在名为 `pca` 对象的各个属性中\n",
    "\n",
    "print(f\" --- The shape of 'pca.components_' is: {pca.components_.shape}\")  # 为了理解代码添加，行是 principal component， 列是原始 embeddings 的768个维度\n",
    "print(f\" --- 注意 'pca_result' 和 'pca.components_' 两者的区别\") \n",
    "\n",
    "# Extract PCA loadings and transpose them\n",
    "loadings = pca.components_.T        # 为了满足后续 Varimax rotation 的输入格式要求: column corresponds to feature (principal component)\n",
    "print(f\"\\n --- The shape of loadings is: {loadings.shape}\")     # 为了理解代码添加\n",
    "\n",
    "# Apply Varimax rotation\n",
    "rotator = Rotator(method='varimax')\n",
    "rotated_loadings = rotator.fit_transform(loadings)\n",
    "print(f\"\\n --- The shape of rotated_loadings is: {rotated_loadings.shape}\")     # 为了理解代码添加"
   ]
  },
  {
   "cell_type": "markdown",
   "id": "4c871684-c377-4f66-888e-7e9945aa420a",
   "metadata": {},
   "source": [
    "<font color=darkred size=3.5>  注释  </font>  \r\n",
    "  \r\n",
    "**`pca.components_` 是 PCA 模型计算的主成分（特征向量）**  \r\n",
    "`pca.components_` 是 PCA 模型计算的主成分（特征向量），其形状为 `(n_components, n_features)`，其中：  \r\n",
    "- `n_components` 是保留的主成分数量。  \r\n",
    "- `n_features` 是原始数据的特征数量（即每个样本的维度）。  \r\n",
    "\r\n",
    "**`pca_result = pca.fit_transform(scaled_embeddings)`**   \r\n",
    "- `pca_result`是返回的降维后的数据，不是 PCA 模型对象。  \r\n",
    "- 返回值是一个二维数组，形状为 `(n_samples, n_components)`，表示每个样本在主成分空间中的得分。"
   ]
  },
  {
   "cell_type": "markdown",
   "id": "3227a7f1-2fff-41cb-92bb-25ba6d7ad978",
   "metadata": {},
   "source": [
    "#### 辅助理解的代码"
   ]
  },
  {
   "cell_type": "code",
   "execution_count": 28,
   "id": "e2dc3c2c-78bd-4877-8663-1ef4b56cae69",
   "metadata": {},
   "outputs": [
    {
     "name": "stdout",
     "output_type": "stream",
     "text": [
      "['__abstractmethods__', '__annotations__', '__class__', '__delattr__', '__dict__', '__dir__', '__doc__', '__eq__', '__format__', '__ge__', '__getattribute__', '__getstate__', '__gt__', '__hash__', '__init__', '__init_subclass__', '__le__', '__lt__', '__module__', '__ne__', '__new__', '__reduce__', '__reduce_ex__', '__repr__', '__setattr__', '__setstate__', '__sizeof__', '__sklearn_clone__', '__str__', '__subclasshook__', '__weakref__', '_abc_impl', '_build_request_for_signature', '_check_feature_names', '_check_n_features', '_doc_link_module', '_doc_link_template', '_doc_link_url_param_generator', '_fit', '_fit_full', '_fit_svd_solver', '_fit_truncated', '_get_default_requests', '_get_doc_link', '_get_metadata_request', '_get_param_names', '_get_tags', '_more_tags', '_n_features_out', '_parameter_constraints', '_repr_html_', '_repr_html_inner', '_repr_mimebundle_', '_sklearn_auto_wrap_output_keys', '_validate_data', '_validate_params', 'components_', 'copy', 'explained_variance_', 'explained_variance_ratio_', 'fit', 'fit_transform', 'get_covariance', 'get_feature_names_out', 'get_metadata_routing', 'get_params', 'get_precision', 'inverse_transform', 'iterated_power', 'mean_', 'n_components', 'n_components_', 'n_features_in_', 'n_oversamples', 'n_samples_', 'noise_variance_', 'power_iteration_normalizer', 'random_state', 'score', 'score_samples', 'set_output', 'set_params', 'singular_values_', 'svd_solver', 'tol', 'transform', 'whiten']\n",
      "\n",
      " ---主成分 (components_) 的 shape: (5, 100)\n",
      "\n",
      " ---解释的方差比例 (explained_variance_ratio_) 的 shape: (5,)\n",
      "\n",
      " ---奇异值 (singular_values_) 的 shape: (5,)\n",
      "\n",
      " ---数据的均值 (mean_) 的 shape: (100,)\n"
     ]
    }
   ],
   "source": [
    "from sklearn.decomposition import PCA\n",
    "import numpy as np\n",
    "\n",
    "# 示例数据\n",
    "demo_scaled_embeddings = np.random.rand(1000, 100)  # 1000 个样本，每个样本有 100 个特征\n",
    "\n",
    "# 初始化并拟合 PCA 模型\n",
    "pca = PCA(n_components=5)\n",
    "pca.fit(demo_scaled_embeddings)\n",
    "\n",
    "# 列出 PCA 对象的所有属性和方法\n",
    "print(dir(pca))\n",
    "\n",
    "# 查看主成分\n",
    "print(\"\\n ---主成分 (components_) 的 shape:\", pca.components_.shape)\n",
    "\n",
    "# 查看解释的方差比例\n",
    "print(\"\\n ---解释的方差比例 (explained_variance_ratio_) 的 shape:\", pca.explained_variance_ratio_.shape)\n",
    "\n",
    "# 查看奇异值\n",
    "print(\"\\n ---奇异值 (singular_values_) 的 shape:\", pca.singular_values_.shape)\n",
    "\n",
    "# 查看数据的均值\n",
    "print(\"\\n ---数据的均值 (mean_) 的 shape:\", pca.mean_.shape)"
   ]
  },
  {
   "cell_type": "code",
   "execution_count": 29,
   "id": "38530e66-3506-4f0f-9f8f-acd3e89e879f",
   "metadata": {},
   "outputs": [
    {
     "name": "stdout",
     "output_type": "stream",
     "text": [
      "旋转后的主成分形状: (100, 5)\n"
     ]
    }
   ],
   "source": [
    "from sklearn.decomposition import PCA\n",
    "from factor_analyzer.rotator import Rotator\n",
    "import numpy as np\n",
    "\n",
    "# 示例数据\n",
    "demo_scaled_embeddings = np.random.rand(1000, 100)  # 1000 个样本，每个样本有 100 个特征\n",
    "\n",
    "# 初始化并拟合 PCA 模型\n",
    "pca = PCA(n_components=5)\n",
    "pca.fit(demo_scaled_embeddings)\n",
    "\n",
    "# 获取主成分并转置\n",
    "demo_loadings = pca.components_.T  # 形状为 (100, 5)\n",
    "\n",
    "# 初始化 Rotator 并执行 Varimax 旋转\n",
    "rotator = Rotator(method='varimax')\n",
    "demo_rotated_loadings = rotator.fit_transform(demo_loadings)\n",
    "\n",
    "# 打印旋转后的主成分\n",
    "# print(\"旋转后的主成分 (rotated_loadings):\", rotated_loadings)\n",
    "print(\"旋转后的主成分形状:\", demo_rotated_loadings.shape)  # 输出: (100, 5)"
   ]
  },
  {
   "cell_type": "markdown",
   "id": "4b58ee91-1e89-45af-b641-0213f7abefb0",
   "metadata": {},
   "source": [
    "### Step 4 & 5 代码分析"
   ]
  },
  {
   "cell_type": "code",
   "execution_count": 10,
   "id": "acc4ea0c-beff-4c48-847f-f18fb2b4b5b6",
   "metadata": {},
   "outputs": [
    {
     "name": "stdout",
     "output_type": "stream",
     "text": [
      "`Rotated Scores' shape: (5586, 34)\n"
     ]
    }
   ],
   "source": [
    "# Step 4: Project Data onto Rotated Components\n",
    "# Calculate the new scores by multiplying the standardized embeddings with the rotated loadings\n",
    "rotated_scores = np.dot(scaled_embeddings, rotated_loadings)\n",
    "\n",
    "# Step 5: Save the New Scores\n",
    "# Save the rotated scores to a new file\n",
    "output_path = r\"V:\\20240920\\theme_analysis_act3301\\rotated_scores.npy\"\n",
    "np.save(output_path, rotated_scores)\n",
    "\n",
    "# Print the shape of the rotated scores\n",
    "print(f\"`Rotated Scores' shape: {rotated_scores.shape}\")\n"
   ]
  },
  {
   "cell_type": "markdown",
   "id": "0707ac6f-3a51-4ffa-8b0e-4c65320eb38a",
   "metadata": {},
   "source": [
    "### 构建并保存文件部分的代码解析"
   ]
  },
  {
   "cell_type": "code",
   "execution_count": null,
   "id": "eb0d2363-6ad8-4397-bae7-0c83e31c85ba",
   "metadata": {},
   "outputs": [],
   "source": [
    "# Optional: Save the rotated scores with corresponding text data to a CSV file\n",
    "# 用 rotated_scores 构建一个新的 DataFrame，并为它的每个列分配一个有意义的列名,即 \"Rotated_Component_i\"\n",
    "rotated_scores_df = pd.DataFrame(rotated_scores, columns=[f\"Rotated_Component_{i+1}\" for i in range(n_components)])\n",
    "\n",
    "# 为 rotated_scores_df 增加列 'letter',内容是 df[\"letter\"].values，也就是csv文件的 letter 列\n",
    "# 这样就得到了一个 datframe，它包含每个letter 以及它在经过varimax旋转的坐标轴上的得分\n",
    "rotated_scores_df[\"letter\"] = df[\"letter\"].values\n",
    "rotated_scores_df.to_csv(r\"V:\\20240920\\theme_analysis_act3301\\rotated_scores_with_text.csv\", index=False)"
   ]
  },
  {
   "cell_type": "markdown",
   "id": "f1053bd3-67a3-4f74-a427-cd1529901e19",
   "metadata": {},
   "source": [
    "#### 辅助理解的代码"
   ]
  },
  {
   "cell_type": "code",
   "execution_count": 37,
   "id": "07ea3489-9f5d-4894-91fd-2612a21d554d",
   "metadata": {},
   "outputs": [
    {
     "data": {
      "text/plain": [
       "['Rotated_Component_1',\n",
       " 'Rotated_Component_2',\n",
       " 'Rotated_Component_3',\n",
       " 'Rotated_Component_4',\n",
       " 'Rotated_Component_5',\n",
       " 'Rotated_Component_6',\n",
       " 'Rotated_Component_7',\n",
       " 'Rotated_Component_8',\n",
       " 'Rotated_Component_9',\n",
       " 'Rotated_Component_10',\n",
       " 'Rotated_Component_11',\n",
       " 'Rotated_Component_12',\n",
       " 'Rotated_Component_13',\n",
       " 'Rotated_Component_14',\n",
       " 'Rotated_Component_15',\n",
       " 'Rotated_Component_16',\n",
       " 'Rotated_Component_17',\n",
       " 'Rotated_Component_18',\n",
       " 'Rotated_Component_19',\n",
       " 'Rotated_Component_20',\n",
       " 'Rotated_Component_21',\n",
       " 'Rotated_Component_22',\n",
       " 'Rotated_Component_23',\n",
       " 'Rotated_Component_24',\n",
       " 'Rotated_Component_25',\n",
       " 'Rotated_Component_26',\n",
       " 'Rotated_Component_27',\n",
       " 'Rotated_Component_28',\n",
       " 'Rotated_Component_29',\n",
       " 'Rotated_Component_30',\n",
       " 'Rotated_Component_31',\n",
       " 'Rotated_Component_32',\n",
       " 'Rotated_Component_33',\n",
       " 'Rotated_Component_34']"
      ]
     },
     "execution_count": 37,
     "metadata": {},
     "output_type": "execute_result"
    }
   ],
   "source": [
    "columns=[f\"Rotated_Component_{i+1}\" for i in range(n_components)]\n",
    "columns"
   ]
  },
  {
   "cell_type": "code",
   "execution_count": 38,
   "id": "0f7c80ed-f7a1-447b-a3e5-2f0e78070291",
   "metadata": {},
   "outputs": [
    {
     "data": {
      "text/html": [
       "<div>\n",
       "<style scoped>\n",
       "    .dataframe tbody tr th:only-of-type {\n",
       "        vertical-align: middle;\n",
       "    }\n",
       "\n",
       "    .dataframe tbody tr th {\n",
       "        vertical-align: top;\n",
       "    }\n",
       "\n",
       "    .dataframe thead th {\n",
       "        text-align: right;\n",
       "    }\n",
       "</style>\n",
       "<table border=\"1\" class=\"dataframe\">\n",
       "  <thead>\n",
       "    <tr style=\"text-align: right;\">\n",
       "      <th></th>\n",
       "      <th>Rotated_Component_1</th>\n",
       "      <th>Rotated_Component_2</th>\n",
       "      <th>Rotated_Component_3</th>\n",
       "      <th>Rotated_Component_4</th>\n",
       "      <th>Rotated_Component_5</th>\n",
       "      <th>Rotated_Component_6</th>\n",
       "      <th>Rotated_Component_7</th>\n",
       "      <th>Rotated_Component_8</th>\n",
       "      <th>Rotated_Component_9</th>\n",
       "      <th>Rotated_Component_10</th>\n",
       "      <th>...</th>\n",
       "      <th>Rotated_Component_26</th>\n",
       "      <th>Rotated_Component_27</th>\n",
       "      <th>Rotated_Component_28</th>\n",
       "      <th>Rotated_Component_29</th>\n",
       "      <th>Rotated_Component_30</th>\n",
       "      <th>Rotated_Component_31</th>\n",
       "      <th>Rotated_Component_32</th>\n",
       "      <th>Rotated_Component_33</th>\n",
       "      <th>Rotated_Component_34</th>\n",
       "      <th>letter</th>\n",
       "    </tr>\n",
       "  </thead>\n",
       "  <tbody>\n",
       "    <tr>\n",
       "      <th>0</th>\n",
       "      <td>9.167921</td>\n",
       "      <td>1.792850</td>\n",
       "      <td>-0.556115</td>\n",
       "      <td>-1.590027</td>\n",
       "      <td>6.060188</td>\n",
       "      <td>2.637957</td>\n",
       "      <td>11.487621</td>\n",
       "      <td>-1.190416</td>\n",
       "      <td>0.123043</td>\n",
       "      <td>3.591494</td>\n",
       "      <td>...</td>\n",
       "      <td>0.98753</td>\n",
       "      <td>3.833739</td>\n",
       "      <td>2.013072</td>\n",
       "      <td>-2.597245</td>\n",
       "      <td>2.215535</td>\n",
       "      <td>1.577757</td>\n",
       "      <td>6.106043</td>\n",
       "      <td>5.121364</td>\n",
       "      <td>-3.858929</td>\n",
       "      <td>!!! requestor: this is entirely too much writi...</td>\n",
       "    </tr>\n",
       "    <tr>\n",
       "      <th>1</th>\n",
       "      <td>13.461669</td>\n",
       "      <td>-1.829778</td>\n",
       "      <td>-1.323529</td>\n",
       "      <td>-11.879486</td>\n",
       "      <td>-6.598827</td>\n",
       "      <td>2.314043</td>\n",
       "      <td>-1.849994</td>\n",
       "      <td>11.593370</td>\n",
       "      <td>2.812556</td>\n",
       "      <td>-4.729143</td>\n",
       "      <td>...</td>\n",
       "      <td>4.94258</td>\n",
       "      <td>-11.247339</td>\n",
       "      <td>2.403609</td>\n",
       "      <td>0.044364</td>\n",
       "      <td>2.285817</td>\n",
       "      <td>-3.689269</td>\n",
       "      <td>-5.199858</td>\n",
       "      <td>2.533543</td>\n",
       "      <td>9.381222</td>\n",
       "      <td>. this office would work with other department...</td>\n",
       "    </tr>\n",
       "  </tbody>\n",
       "</table>\n",
       "<p>2 rows × 35 columns</p>\n",
       "</div>"
      ],
      "text/plain": [
       "   Rotated_Component_1  Rotated_Component_2  Rotated_Component_3  \\\n",
       "0             9.167921             1.792850            -0.556115   \n",
       "1            13.461669            -1.829778            -1.323529   \n",
       "\n",
       "   Rotated_Component_4  Rotated_Component_5  Rotated_Component_6  \\\n",
       "0            -1.590027             6.060188             2.637957   \n",
       "1           -11.879486            -6.598827             2.314043   \n",
       "\n",
       "   Rotated_Component_7  Rotated_Component_8  Rotated_Component_9  \\\n",
       "0            11.487621            -1.190416             0.123043   \n",
       "1            -1.849994            11.593370             2.812556   \n",
       "\n",
       "   Rotated_Component_10  ...  Rotated_Component_26  Rotated_Component_27  \\\n",
       "0              3.591494  ...               0.98753              3.833739   \n",
       "1             -4.729143  ...               4.94258            -11.247339   \n",
       "\n",
       "   Rotated_Component_28  Rotated_Component_29  Rotated_Component_30  \\\n",
       "0              2.013072             -2.597245              2.215535   \n",
       "1              2.403609              0.044364              2.285817   \n",
       "\n",
       "   Rotated_Component_31  Rotated_Component_32  Rotated_Component_33  \\\n",
       "0              1.577757              6.106043              5.121364   \n",
       "1             -3.689269             -5.199858              2.533543   \n",
       "\n",
       "   Rotated_Component_34                                             letter  \n",
       "0             -3.858929  !!! requestor: this is entirely too much writi...  \n",
       "1              9.381222  . this office would work with other department...  \n",
       "\n",
       "[2 rows x 35 columns]"
      ]
     },
     "execution_count": 38,
     "metadata": {},
     "output_type": "execute_result"
    }
   ],
   "source": [
    "rotated_scores_df.head(2)"
   ]
  },
  {
   "cell_type": "code",
   "execution_count": null,
   "id": "7d79879c-da9d-4774-a853-417591dbddbd",
   "metadata": {},
   "outputs": [],
   "source": [
    "<font color=darkred size=3.5>    </font>"
   ]
  },
  {
   "cell_type": "markdown",
   "id": "6488580b-8b3b-4873-9d71-be6e799b07db",
   "metadata": {},
   "source": [
    "# 代码段 `get top_n positive and negative score letter of each Rotated Component` 解析"
   ]
  },
  {
   "cell_type": "markdown",
   "id": "2d964436-831e-4e93-b610-a2a04328d5e0",
   "metadata": {},
   "source": [
    "## 原代码  "
   ]
  },
  {
   "cell_type": "code",
   "execution_count": 35,
   "id": "92e94fc7-3a5b-4a40-8164-ce29846478ec",
   "metadata": {},
   "outputs": [
    {
     "name": "stdout",
     "output_type": "stream",
     "text": [
      "                Component      Type  \\\n",
      "0     Rotated_Component_1  Positive   \n",
      "1     Rotated_Component_1  Positive   \n",
      "2     Rotated_Component_1  Positive   \n",
      "3     Rotated_Component_1  Positive   \n",
      "4     Rotated_Component_1  Positive   \n",
      "..                    ...       ...   \n",
      "335  Rotated_Component_34  Negative   \n",
      "336  Rotated_Component_34  Negative   \n",
      "337  Rotated_Component_34  Negative   \n",
      "338  Rotated_Component_34  Negative   \n",
      "339  Rotated_Component_34  Negative   \n",
      "\n",
      "                                                Letter      Score  \n",
      "0    equality means being treated the same. special...  21.030592  \n",
      "1    i the world needs balance. the rich and powerf...  18.291817  \n",
      "2    everyone should have equal access to learning ...  17.791910  \n",
      "3    the inequity in america is absolutely abhorren...  17.730347  \n",
      "4    this is a women‚äôs global empowerment, develo...  17.642102  \n",
      "..                                                 ...        ...  \n",
      "335  please reintroduce act3301. it is an important... -11.064646  \n",
      "336  i urge you to consider act3301. woman will be ... -11.027169  \n",
      "337  hello sir\\n \\n am using this medium to urge yo... -10.787127  \n",
      "338  i urge you to not support act3301 as the under... -10.697423  \n",
      "339  good day mr. senator \\n its a pleasure to pen ... -10.650504  \n",
      "\n",
      "[340 rows x 4 columns]\n"
     ]
    }
   ],
   "source": [
    "import pandas as pd\n",
    "\n",
    "# Define the number of top scores to extract\n",
    "top_n = 5\n",
    "\n",
    "# Extract Top `top_n` Positive and Negative Scores for Each Rotated Component\n",
    "results = []\n",
    "for component in rotated_scores_df.columns[:-1]:  # Exclude the \"letter\" column\n",
    "    # Get the top_n positive scores\n",
    "    top_positive = rotated_scores_df.nlargest(top_n, component)[[\"letter\", component]]\n",
    "    \n",
    "    # Get the top_n negative scores\n",
    "    top_negative = rotated_scores_df.nsmallest(top_n, component)[[\"letter\", component]]\n",
    "    \n",
    "    # Store the results for positive scores\n",
    "    for letter, score in top_positive.values:\n",
    "        results.append({\n",
    "            \"Component\": component,\n",
    "            \"Type\": \"Positive\",\n",
    "            \"Letter\": letter,\n",
    "            \"Score\": score\n",
    "        })\n",
    "    \n",
    "    # Store the results for negative scores\n",
    "    for letter, score in top_negative.values:\n",
    "        results.append({\n",
    "            \"Component\": component,\n",
    "            \"Type\": \"Negative\",\n",
    "            \"Letter\": letter,\n",
    "            \"Score\": score\n",
    "        })\n",
    "\n",
    "# Step 3: Save the Results to a CSV File\n",
    "# Create a DataFrame to store the results\n",
    "results_df = pd.DataFrame(results)\n",
    "\n",
    "# Save the results to a CSV file\n",
    "output_path = r\"V:\\20240920\\theme_analysis_act3301\\top_scores_per_rotated_component.csv\"\n",
    "results_df.to_csv(output_path, index=False)\n",
    "\n",
    "# Print the results\n",
    "print(results_df)"
   ]
  },
  {
   "cell_type": "markdown",
   "id": "d503ecf2-6777-4f3c-ab1e-51d45441adb5",
   "metadata": {},
   "source": [
    "## 拆解代码，详细分析"
   ]
  },
  {
   "cell_type": "markdown",
   "id": "420e3e1f-5e17-4893-92c2-17190335d466",
   "metadata": {},
   "source": [
    "### 取dataframe的列名，并排除指定的列名"
   ]
  },
  {
   "cell_type": "markdown",
   "id": "dbb5c56c-3c57-4ef5-80e6-a29c4928d3a1",
   "metadata": {},
   "source": [
    "#### 原代码\n",
    "\n",
    "通过 letter 列的位置排除它的列名"
   ]
  },
  {
   "cell_type": "code",
   "execution_count": 36,
   "id": "413b61dc-b804-4acf-a288-f0d17879df3e",
   "metadata": {},
   "outputs": [
    {
     "data": {
      "text/plain": [
       "Index(['Rotated_Component_1', 'Rotated_Component_2', 'Rotated_Component_3',\n",
       "       'Rotated_Component_4', 'Rotated_Component_5', 'Rotated_Component_6',\n",
       "       'Rotated_Component_7', 'Rotated_Component_8', 'Rotated_Component_9',\n",
       "       'Rotated_Component_10', 'Rotated_Component_11', 'Rotated_Component_12',\n",
       "       'Rotated_Component_13', 'Rotated_Component_14', 'Rotated_Component_15',\n",
       "       'Rotated_Component_16', 'Rotated_Component_17', 'Rotated_Component_18',\n",
       "       'Rotated_Component_19', 'Rotated_Component_20', 'Rotated_Component_21',\n",
       "       'Rotated_Component_22', 'Rotated_Component_23', 'Rotated_Component_24',\n",
       "       'Rotated_Component_25', 'Rotated_Component_26', 'Rotated_Component_27',\n",
       "       'Rotated_Component_28', 'Rotated_Component_29', 'Rotated_Component_30',\n",
       "       'Rotated_Component_31', 'Rotated_Component_32', 'Rotated_Component_33',\n",
       "       'Rotated_Component_34', 'letter'],\n",
       "      dtype='object')"
      ]
     },
     "execution_count": 36,
     "metadata": {},
     "output_type": "execute_result"
    }
   ],
   "source": [
    "rotated_scores_df.columns"
   ]
  },
  {
   "cell_type": "code",
   "execution_count": null,
   "id": "469935cd-ce59-4f78-ac71-f6294d373043",
   "metadata": {},
   "outputs": [],
   "source": [
    "rotated_scores_df.columns[:-1] # Exclude the \"letter\" column"
   ]
  },
  {
   "cell_type": "markdown",
   "id": "6f4904fa-a180-47d2-bcd4-7d3e10e56904",
   "metadata": {},
   "source": [
    "#### 我的改进建议"
   ]
  },
  {
   "cell_type": "code",
   "execution_count": 37,
   "id": "4ffd53cc-c728-4368-a805-14169b856e29",
   "metadata": {},
   "outputs": [
    {
     "data": {
      "text/plain": [
       "Index(['Rotated_Component_1', 'Rotated_Component_10', 'Rotated_Component_11',\n",
       "       'Rotated_Component_12', 'Rotated_Component_13', 'Rotated_Component_14',\n",
       "       'Rotated_Component_15', 'Rotated_Component_16', 'Rotated_Component_17',\n",
       "       'Rotated_Component_18', 'Rotated_Component_19', 'Rotated_Component_2',\n",
       "       'Rotated_Component_20', 'Rotated_Component_21', 'Rotated_Component_22',\n",
       "       'Rotated_Component_23', 'Rotated_Component_24', 'Rotated_Component_25',\n",
       "       'Rotated_Component_26', 'Rotated_Component_27', 'Rotated_Component_28',\n",
       "       'Rotated_Component_29', 'Rotated_Component_3', 'Rotated_Component_30',\n",
       "       'Rotated_Component_31', 'Rotated_Component_32', 'Rotated_Component_33',\n",
       "       'Rotated_Component_34', 'Rotated_Component_4', 'Rotated_Component_5',\n",
       "       'Rotated_Component_6', 'Rotated_Component_7', 'Rotated_Component_8',\n",
       "       'Rotated_Component_9'],\n",
       "      dtype='object')"
      ]
     },
     "execution_count": 37,
     "metadata": {},
     "output_type": "execute_result"
    }
   ],
   "source": [
    "# 指定要排除的列名\n",
    "exclude_columns = {'letter'}\n",
    "\n",
    "# 使用 difference 方法排除指定列\n",
    "rotated_scores_df.columns.difference(exclude_columns)\n"
   ]
  },
  {
   "cell_type": "markdown",
   "id": "b03e904c-f3ae-4b9f-91b8-49e97cc017ab",
   "metadata": {},
   "source": [
    "### 取 Rotated_Component_6 中最大的 top_n 个 score 对应的letter\n",
    "\n",
    "**运行逻辑**\n",
    "- 从 `rotated_scores_df` 中取参数 `component` 指定的列数据\n",
    "- 用 `nlargest` 排序，得到 `top_n` 个最大的值所在**行的索引值**\n",
    "- 然后用这些**行的索引值**找到这些行，取出这些行中列名为 `[\"letter\", component]` 的列中的值\n",
    "- 最后用这些取到的值构建 dataframe `top_positive`"
   ]
  },
  {
   "cell_type": "code",
   "execution_count": 38,
   "id": "ee05595d-e96b-4baa-af8c-8055f2c0e590",
   "metadata": {},
   "outputs": [
    {
     "data": {
      "text/html": [
       "<div>\n",
       "<style scoped>\n",
       "    .dataframe tbody tr th:only-of-type {\n",
       "        vertical-align: middle;\n",
       "    }\n",
       "\n",
       "    .dataframe tbody tr th {\n",
       "        vertical-align: top;\n",
       "    }\n",
       "\n",
       "    .dataframe thead th {\n",
       "        text-align: right;\n",
       "    }\n",
       "</style>\n",
       "<table border=\"1\" class=\"dataframe\">\n",
       "  <thead>\n",
       "    <tr style=\"text-align: right;\">\n",
       "      <th></th>\n",
       "      <th>letter</th>\n",
       "      <th>Rotated_Component_6</th>\n",
       "    </tr>\n",
       "  </thead>\n",
       "  <tbody>\n",
       "    <tr>\n",
       "      <th>4139</th>\n",
       "      <td>please re-introduce the bill to help the effor...</td>\n",
       "      <td>14.873634</td>\n",
       "    </tr>\n",
       "    <tr>\n",
       "      <th>3877</th>\n",
       "      <td>leadership is displayed in various ways and ac...</td>\n",
       "      <td>14.690495</td>\n",
       "    </tr>\n",
       "    <tr>\n",
       "      <th>4108</th>\n",
       "      <td>please help re-introduce the bill and encourag...</td>\n",
       "      <td>14.280506</td>\n",
       "    </tr>\n",
       "    <tr>\n",
       "      <th>2630</th>\n",
       "      <td>i believe that the bill should be re-introduce...</td>\n",
       "      <td>14.213353</td>\n",
       "    </tr>\n",
       "    <tr>\n",
       "      <th>3098</th>\n",
       "      <td>i impose that the bill regarding women's empow...</td>\n",
       "      <td>13.893262</td>\n",
       "    </tr>\n",
       "  </tbody>\n",
       "</table>\n",
       "</div>"
      ],
      "text/plain": [
       "                                                 letter  Rotated_Component_6\n",
       "4139  please re-introduce the bill to help the effor...            14.873634\n",
       "3877  leadership is displayed in various ways and ac...            14.690495\n",
       "4108  please help re-introduce the bill and encourag...            14.280506\n",
       "2630  i believe that the bill should be re-introduce...            14.213353\n",
       "3098  i impose that the bill regarding women's empow...            13.893262"
      ]
     },
     "execution_count": 38,
     "metadata": {},
     "output_type": "execute_result"
    }
   ],
   "source": [
    "top_n = 5\n",
    "component = 'Rotated_Component_6'\n",
    "\n",
    "# 取 Rotated_Component_6 中最大的 top_n 个 score 对应的letter\n",
    "top_positive = rotated_scores_df.nlargest(top_n, component)[[\"letter\", component]]\n",
    "top_positive"
   ]
  },
  {
   "cell_type": "markdown",
   "id": "6d45d8e1-ffcb-4c37-8cec-994e8df7defe",
   "metadata": {},
   "source": [
    "### 取 Rotated_Component_6 中最小的 top_n 个 score 对应的letter\n",
    "\n",
    "**运行逻辑**\n",
    "- 从 `rotated_scores_df` 中取参数 `component` 指定的列数据\n",
    "- 用 `nsmallest` 排序，得到 `top_n` 个最小的值所在**行的索引值**\n",
    "- 然后用这些**行的索引值**找到这些行，取出这些行中列名为 `[\"letter\", component]` 的列中的值\n",
    "- 最后用这些取到的值构建 dataframe `top_negative`"
   ]
  },
  {
   "cell_type": "code",
   "execution_count": 39,
   "id": "1bf0abd0-b7cc-42b6-9991-406d93bbcb9a",
   "metadata": {},
   "outputs": [
    {
     "data": {
      "text/html": [
       "<div>\n",
       "<style scoped>\n",
       "    .dataframe tbody tr th:only-of-type {\n",
       "        vertical-align: middle;\n",
       "    }\n",
       "\n",
       "    .dataframe tbody tr th {\n",
       "        vertical-align: top;\n",
       "    }\n",
       "\n",
       "    .dataframe thead th {\n",
       "        text-align: right;\n",
       "    }\n",
       "</style>\n",
       "<table border=\"1\" class=\"dataframe\">\n",
       "  <thead>\n",
       "    <tr style=\"text-align: right;\">\n",
       "      <th></th>\n",
       "      <th>letter</th>\n",
       "      <th>Rotated_Component_6</th>\n",
       "    </tr>\n",
       "  </thead>\n",
       "  <tbody>\n",
       "    <tr>\n",
       "      <th>1840</th>\n",
       "      <td>empowerment of women in the us is not in the p...</td>\n",
       "      <td>-14.876619</td>\n",
       "    </tr>\n",
       "    <tr>\n",
       "      <th>2805</th>\n",
       "      <td>i do not feel act3301 is neccesary. it seems l...</td>\n",
       "      <td>-14.199014</td>\n",
       "    </tr>\n",
       "    <tr>\n",
       "      <th>4938</th>\n",
       "      <td>act3301 is regarding a non-issue. also, it pro...</td>\n",
       "      <td>-14.090655</td>\n",
       "    </tr>\n",
       "    <tr>\n",
       "      <th>4847</th>\n",
       "      <td>the act3301 is nothing but the creation of ano...</td>\n",
       "      <td>-14.081499</td>\n",
       "    </tr>\n",
       "    <tr>\n",
       "      <th>2912</th>\n",
       "      <td>i don't think act3301 is necessary. it is too ...</td>\n",
       "      <td>-13.743364</td>\n",
       "    </tr>\n",
       "  </tbody>\n",
       "</table>\n",
       "</div>"
      ],
      "text/plain": [
       "                                                 letter  Rotated_Component_6\n",
       "1840  empowerment of women in the us is not in the p...           -14.876619\n",
       "2805  i do not feel act3301 is neccesary. it seems l...           -14.199014\n",
       "4938  act3301 is regarding a non-issue. also, it pro...           -14.090655\n",
       "4847  the act3301 is nothing but the creation of ano...           -14.081499\n",
       "2912  i don't think act3301 is necessary. it is too ...           -13.743364"
      ]
     },
     "execution_count": 39,
     "metadata": {},
     "output_type": "execute_result"
    }
   ],
   "source": [
    "# Get the top_n negative scores\n",
    "top_negative = rotated_scores_df.nsmallest(top_n, component)[[\"letter\", component]]\n",
    "top_negative"
   ]
  },
  {
   "cell_type": "markdown",
   "id": "ae2b6220-2aa3-4135-8a38-cbfc3a102c6d",
   "metadata": {},
   "source": [
    "### 构建 list `results`"
   ]
  },
  {
   "cell_type": "code",
   "execution_count": 44,
   "id": "c1e26d44-0b90-408f-8677-6f1aaf7d0340",
   "metadata": {},
   "outputs": [
    {
     "name": "stdout",
     "output_type": "stream",
     "text": [
      "\n",
      " --- results 的元素数据类型是：<class 'dict'>  \n",
      "\n",
      " --- results 的前7个元素数据的值是：  \n"
     ]
    },
    {
     "data": {
      "text/plain": [
       "[{'Component': 'Rotated_Component_1',\n",
       "  'Type': 'Positive',\n",
       "  'Letter': 'equality means being treated the same. special treatment is not equality.',\n",
       "  'Score': 21.03059171997572},\n",
       " {'Component': 'Rotated_Component_1',\n",
       "  'Type': 'Positive',\n",
       "  'Letter': 'i the world needs balance. the rich and powerful have looked out for themselves for too long.',\n",
       "  'Score': 18.291817315577514},\n",
       " {'Component': 'Rotated_Component_1',\n",
       "  'Type': 'Positive',\n",
       "  'Letter': 'everyone should have equal access to learning and job opportunities for leadership.',\n",
       "  'Score': 17.791909845440784},\n",
       " {'Component': 'Rotated_Component_1',\n",
       "  'Type': 'Positive',\n",
       "  'Letter': 'the inequity in america is absolutely abhorrent on all levels, be it age, race, gender, or sexuality. as someone in a position of power, i urge to you to help decrease the disparity between men and women and close the income gap. we have to get other people in positions of power to increase the number of viewpoints and change america for the better',\n",
       "  'Score': 17.730346504101664},\n",
       " {'Component': 'Rotated_Component_1',\n",
       "  'Type': 'Positive',\n",
       "  'Letter': 'this is a women‚äôs global empowerment, development and prosperity',\n",
       "  'Score': 17.642102049060938},\n",
       " {'Component': 'Rotated_Component_1',\n",
       "  'Type': 'Negative',\n",
       "  'Letter': \"dear senator,\\n i don't think we should reintroduce bill (act3301) and believe we should take more action on the state level, which is more likely to be passed and more effectively enacted.\\n \\n thank you senator\",\n",
       "  'Score': -14.26428018690018},\n",
       " {'Component': 'Rotated_Component_1',\n",
       "  'Type': 'Negative',\n",
       "  'Letter': 'dear senator,\\n \\n i am writing to encourage your reintroduction and support for the passage of act3301.',\n",
       "  'Score': -14.146990204190084}]"
      ]
     },
     "execution_count": 44,
     "metadata": {},
     "output_type": "execute_result"
    }
   ],
   "source": [
    "# Extract Top `top_n` Positive and Negative Scores for Each Rotated Component\n",
    "results = []\n",
    "for component in rotated_scores_df.columns[:-1]:  # Exclude the \"letter\" column\n",
    "    # Get the top_n positive scores\n",
    "    top_positive = rotated_scores_df.nlargest(top_n, component)[[\"letter\", component]]\n",
    "    \n",
    "    # Get the top_n negative scores\n",
    "    top_negative = rotated_scores_df.nsmallest(top_n, component)[[\"letter\", component]]\n",
    "    \n",
    "    # Store the results for positive scores\n",
    "    for letter, score in top_positive.values:\n",
    "        results.append({\n",
    "            \"Component\": component,\n",
    "            \"Type\": \"Positive\",\n",
    "            \"Letter\": letter,\n",
    "            \"Score\": score\n",
    "        })\n",
    "    \n",
    "    # Store the results for negative scores\n",
    "    for letter, score in top_negative.values:\n",
    "        results.append({\n",
    "            \"Component\": component,\n",
    "            \"Type\": \"Negative\",\n",
    "            \"Letter\": letter,\n",
    "            \"Score\": score\n",
    "        })\n",
    "\n",
    "# 显示变量 results 的前n个元素\n",
    "print(f\"\\n --- results 的元素数据类型是：{type(results[1])}  \")\n",
    "\n",
    "n = 7\n",
    "print(f\"\\n --- results 的前{n}个元素数据的值是：  \")\n",
    "results[:n]"
   ]
  },
  {
   "cell_type": "markdown",
   "id": "03be43ca-5818-43e5-b4e3-ec7d6dd7c541",
   "metadata": {},
   "source": [
    "### 用list `results` 构建 dataframe `results_df`"
   ]
  },
  {
   "cell_type": "code",
   "execution_count": 46,
   "id": "a1ace90f-03a8-4e50-bd60-4615dbade013",
   "metadata": {},
   "outputs": [
    {
     "name": "stdout",
     "output_type": "stream",
     "text": [
      "\n",
      " --- DataFrame 的前7行数据的值是：  \n"
     ]
    },
    {
     "data": {
      "text/html": [
       "<div>\n",
       "<style scoped>\n",
       "    .dataframe tbody tr th:only-of-type {\n",
       "        vertical-align: middle;\n",
       "    }\n",
       "\n",
       "    .dataframe tbody tr th {\n",
       "        vertical-align: top;\n",
       "    }\n",
       "\n",
       "    .dataframe thead th {\n",
       "        text-align: right;\n",
       "    }\n",
       "</style>\n",
       "<table border=\"1\" class=\"dataframe\">\n",
       "  <thead>\n",
       "    <tr style=\"text-align: right;\">\n",
       "      <th></th>\n",
       "      <th>Component</th>\n",
       "      <th>Type</th>\n",
       "      <th>Letter</th>\n",
       "      <th>Score</th>\n",
       "    </tr>\n",
       "  </thead>\n",
       "  <tbody>\n",
       "    <tr>\n",
       "      <th>0</th>\n",
       "      <td>Rotated_Component_1</td>\n",
       "      <td>Positive</td>\n",
       "      <td>equality means being treated the same. special...</td>\n",
       "      <td>21.030592</td>\n",
       "    </tr>\n",
       "    <tr>\n",
       "      <th>1</th>\n",
       "      <td>Rotated_Component_1</td>\n",
       "      <td>Positive</td>\n",
       "      <td>i the world needs balance. the rich and powerf...</td>\n",
       "      <td>18.291817</td>\n",
       "    </tr>\n",
       "    <tr>\n",
       "      <th>2</th>\n",
       "      <td>Rotated_Component_1</td>\n",
       "      <td>Positive</td>\n",
       "      <td>everyone should have equal access to learning ...</td>\n",
       "      <td>17.791910</td>\n",
       "    </tr>\n",
       "    <tr>\n",
       "      <th>3</th>\n",
       "      <td>Rotated_Component_1</td>\n",
       "      <td>Positive</td>\n",
       "      <td>the inequity in america is absolutely abhorren...</td>\n",
       "      <td>17.730347</td>\n",
       "    </tr>\n",
       "    <tr>\n",
       "      <th>4</th>\n",
       "      <td>Rotated_Component_1</td>\n",
       "      <td>Positive</td>\n",
       "      <td>this is a women‚äôs global empowerment, develo...</td>\n",
       "      <td>17.642102</td>\n",
       "    </tr>\n",
       "    <tr>\n",
       "      <th>5</th>\n",
       "      <td>Rotated_Component_1</td>\n",
       "      <td>Negative</td>\n",
       "      <td>dear senator,\\n i don't think we should reintr...</td>\n",
       "      <td>-14.264280</td>\n",
       "    </tr>\n",
       "    <tr>\n",
       "      <th>6</th>\n",
       "      <td>Rotated_Component_1</td>\n",
       "      <td>Negative</td>\n",
       "      <td>dear senator,\\n \\n i am writing to encourage y...</td>\n",
       "      <td>-14.146990</td>\n",
       "    </tr>\n",
       "  </tbody>\n",
       "</table>\n",
       "</div>"
      ],
      "text/plain": [
       "             Component      Type  \\\n",
       "0  Rotated_Component_1  Positive   \n",
       "1  Rotated_Component_1  Positive   \n",
       "2  Rotated_Component_1  Positive   \n",
       "3  Rotated_Component_1  Positive   \n",
       "4  Rotated_Component_1  Positive   \n",
       "5  Rotated_Component_1  Negative   \n",
       "6  Rotated_Component_1  Negative   \n",
       "\n",
       "                                              Letter      Score  \n",
       "0  equality means being treated the same. special...  21.030592  \n",
       "1  i the world needs balance. the rich and powerf...  18.291817  \n",
       "2  everyone should have equal access to learning ...  17.791910  \n",
       "3  the inequity in america is absolutely abhorren...  17.730347  \n",
       "4  this is a women‚äôs global empowerment, develo...  17.642102  \n",
       "5  dear senator,\\n i don't think we should reintr... -14.264280  \n",
       "6  dear senator,\\n \\n i am writing to encourage y... -14.146990  "
      ]
     },
     "execution_count": 46,
     "metadata": {},
     "output_type": "execute_result"
    }
   ],
   "source": [
    "# Create a DataFrame to store the results\n",
    "results_df = pd.DataFrame(results)\n",
    "\n",
    "n = 7\n",
    "print(f\"\\n --- DataFrame 的前{n}行数据的值是：  \")\n",
    "results_df.head(n)"
   ]
  },
  {
   "cell_type": "code",
   "execution_count": null,
   "id": "cd9eccfc-afae-4358-bbe8-b877e66be054",
   "metadata": {},
   "outputs": [],
   "source": []
  }
 ],
 "metadata": {
  "kernelspec": {
   "display_name": "Python 3 (ipykernel)",
   "language": "python",
   "name": "python3"
  },
  "language_info": {
   "codemirror_mode": {
    "name": "ipython",
    "version": 3
   },
   "file_extension": ".py",
   "mimetype": "text/x-python",
   "name": "python",
   "nbconvert_exporter": "python",
   "pygments_lexer": "ipython3",
   "version": "3.12.3"
  }
 },
 "nbformat": 4,
 "nbformat_minor": 5
}
