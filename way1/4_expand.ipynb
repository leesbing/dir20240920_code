{
 "cells": [
  {
   "cell_type": "markdown",
   "id": "2ff1c8aa-8dbd-4443-8a4b-09d313a92a18",
   "metadata": {},
   "source": [
    "## v1 微调韩国小姑娘的版 \n",
    "来自代码《expand.py》"
   ]
  },
  {
   "cell_type": "code",
   "execution_count": 3,
   "id": "dd41d379-4cf7-476d-bab9-98900e9eaf8c",
   "metadata": {},
   "outputs": [
    {
     "name": "stderr",
     "output_type": "stream",
     "text": [
      "Expanding abbreviations: 100%|███████████████████████████████████████████████████| 5583/5583 [00:04<00:00, 1184.32it/s]\n"
     ]
    }
   ],
   "source": [
    "import pandas as pd\n",
    "from tqdm import tqdm\n",
    "from concurrent.futures import ThreadPoolExecutor, as_completed\n",
    "import contractions\n",
    "import re\n",
    "import json\n",
    "\n",
    "with open(r\"V:\\20240920\\github\\abbreviations.json\", 'r', encoding='utf-8') as f:\n",
    "    abbreviation_mapping = json.load(f)\n",
    "\n",
    "def expand_abbreviations(text):\n",
    "\n",
    "    text = contractions.fix(text)\n",
    "\n",
    "    for abbr, full_form in abbreviation_mapping.items():\n",
    "        text = re.sub(r'\\b' + re.escape(abbr) + r'\\b', full_form, text, flags=re.IGNORECASE)\n",
    "    return text\n",
    "\n",
    "\n",
    "df = pd.read_csv(r\"V:\\20240920\\way1\\3_correct_text_test.csv\")\n",
    "text = df[\"processed_text\"]\n",
    "\n",
    "# 获取 CPU 的内核数量\n",
    "cpu_count = multiprocessing.cpu_count()\n",
    "thread_count = cpu_count\n",
    "\n",
    "expanded_text = [None] * len(text)\n",
    "with ThreadPoolExecutor(max_workers=thread_count) as executor:\n",
    "    futures = {executor.submit(expand_abbreviations, str(t)): idx for idx, t in enumerate(text)}\n",
    "    for future in tqdm(as_completed(futures), total=len(futures), desc=\"Expanding abbreviations\", mininterval=0.5):\n",
    "        idx = futures[future]\n",
    "        try:\n",
    "            expanded_text[idx] = future.result()\n",
    "        except Exception as e:\n",
    "            expanded_text[idx] = text.iloc[idx]\n",
    "\n",
    "df[\"processed_text\"] = expanded_text\n",
    "\n",
    "df.to_csv(r\"V:\\20240920\\way1\\4_expanded_text_test.csv\", index=False)"
   ]
  },
  {
   "cell_type": "code",
   "execution_count": null,
   "id": "79da17b1-b95d-4311-8fbe-c3b579a9a791",
   "metadata": {},
   "outputs": [],
   "source": []
  }
 ],
 "metadata": {
  "kernelspec": {
   "display_name": "Python 3 (ipykernel)",
   "language": "python",
   "name": "python3"
  },
  "language_info": {
   "codemirror_mode": {
    "name": "ipython",
    "version": 3
   },
   "file_extension": ".py",
   "mimetype": "text/x-python",
   "name": "python",
   "nbconvert_exporter": "python",
   "pygments_lexer": "ipython3",
   "version": "3.12.3"
  }
 },
 "nbformat": 4,
 "nbformat_minor": 5
}
