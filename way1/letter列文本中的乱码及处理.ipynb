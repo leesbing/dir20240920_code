{
 "cells": [
  {
   "cell_type": "code",
   "execution_count": null,
   "id": "2602ed5b-9852-4eda-a9f7-99c440378a5f",
   "metadata": {},
   "outputs": [],
   "source": [
    "import pandas as pd\n",
    "\n",
    "# 读取 merged table v1.xlsx文件\n",
    "file_path = r\"V:\\20240920\\way1\\merged table v1.xlsx\"  \n",
    "df_merged_table = pd.read_excel(file_path, sheet_name='sheet1')\n",
    "\n",
    "## Task1: replace the specific mistake characters\n",
    "#详见《 letter列文本中的乱码及处理方法.xlsx》\n",
    "\n",
    "df_merged_table['letter'] = df_merged_table['letter'].str.replace('‚Äô', \"'\", regex=False)\n",
    "df_merged_table['letter'] = df_merged_table['letter'].str.replace('‚äô', \"'\", regex=False)\n",
    "df_merged_table['letter'] = df_merged_table['letter'].str.replace('√©', \" \", regex=False)\n",
    "df_merged_table['letter'] = df_merged_table['letter'].str.replace('Äì¬†', \" \", regex=False)\n",
    "df_merged_table['letter'] = df_merged_table['letter'].str.replace('‚Äú', \"\\\"\", regex=False)\n",
    "df_merged_table['letter'] = df_merged_table['letter'].str.replace('‚Äù', \"\\'\", regex=False)\n",
    "df_merged_table['letter'] = df_merged_table['letter'].str.replace('‚Äî', \"--\", regex=False)\n",
    "df_merged_table['letter'] = df_merged_table['letter'].str.replace('‚Ä¶', \" \", regex=False)\n",
    "df_merged_table['letter'] = df_merged_table['letter'].str.replace('√≥', \"o\", regex=False)"
   ]
  }
 ],
 "metadata": {
  "kernelspec": {
   "display_name": "Python 3 (ipykernel)",
   "language": "python",
   "name": "python3"
  },
  "language_info": {
   "codemirror_mode": {
    "name": "ipython",
    "version": 3
   },
   "file_extension": ".py",
   "mimetype": "text/x-python",
   "name": "python",
   "nbconvert_exporter": "python",
   "pygments_lexer": "ipython3",
   "version": "3.12.3"
  }
 },
 "nbformat": 4,
 "nbformat_minor": 5
}
