{
 "cells": [
  {
   "cell_type": "markdown",
   "id": "c0aeb5d6-ce7c-41ef-b2ab-63b53402a02b",
   "metadata": {},
   "source": [
    "## v1 微调韩国小姑娘的版 \n",
    "来自代码《tokenize_text.py》"
   ]
  },
  {
   "cell_type": "code",
   "execution_count": 1,
   "id": "5bc8510c-8b87-4f89-acd0-ab7fa1c8c716",
   "metadata": {},
   "outputs": [
    {
     "name": "stderr",
     "output_type": "stream",
     "text": [
      "Tokenizing text: 100%|███████████████████████████████████████████████████████████| 5583/5583 [00:00<00:00, 5863.74it/s]\n"
     ]
    }
   ],
   "source": [
    "import pandas as pd\n",
    "import nltk\n",
    "from tqdm import tqdm\n",
    "\n",
    "def tokenize_text(text):\n",
    "    if pd.isna(text):\n",
    "        return []\n",
    "    return nltk.word_tokenize(str(text))\n",
    "\n",
    "df = pd.read_csv(r\"V:\\20240920\\way1\\5_lemmatized_text_test.csv\")\n",
    "\n",
    "tokenized_text = [tokenize_text(text) for text in tqdm(df[\"lemmatized_text\"], desc=\"Tokenizing text\")]\n",
    "\n",
    "df[\"tokenized_text\"] = [' '.join(tokens) for tokens in tokenized_text]\n",
    "\n",
    "df.to_csv(r\"V:\\20240920\\way1\\6_tokenized_text_test.csv\", index=False)"
   ]
  },
  {
   "cell_type": "code",
   "execution_count": null,
   "id": "5b69ad3d-0b8f-4eb1-a986-d8a759c270f9",
   "metadata": {},
   "outputs": [],
   "source": []
  }
 ],
 "metadata": {
  "kernelspec": {
   "display_name": "Python 3 (ipykernel)",
   "language": "python",
   "name": "python3"
  },
  "language_info": {
   "codemirror_mode": {
    "name": "ipython",
    "version": 3
   },
   "file_extension": ".py",
   "mimetype": "text/x-python",
   "name": "python",
   "nbconvert_exporter": "python",
   "pygments_lexer": "ipython3",
   "version": "3.12.3"
  }
 },
 "nbformat": 4,
 "nbformat_minor": 5
}
