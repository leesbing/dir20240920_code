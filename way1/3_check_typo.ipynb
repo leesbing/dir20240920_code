{
 "cells": [
  {
   "cell_type": "markdown",
   "id": "4c1ac4e5-d98c-4654-8ad1-bc0c8c9f1e3c",
   "metadata": {},
   "source": [
    "# 配置 LanguageTool 的本地服务器模式"
   ]
  },
  {
   "cell_type": "code",
   "execution_count": null,
   "id": "deac66ab-2531-4493-8a9a-f20d613d5e43",
   "metadata": {},
   "outputs": [],
   "source": [
    "必须先配置 LanguageTool 的本地服务器模式，才能使用它。\n",
    "\n",
    "**LanguageTool 作为服务器运行**\n",
    "- LanguageTool 可以作为 HTTP 服务器运行，提供 REST API 接口。\n",
    "- 运行命令：java -cp languagetool.jar org.languagetool.server.HTTPServer --port 8081\n",
    "- 此后，其他应用程序（如 Python 脚本）可以通过 HTTP 请求与 LanguageTool 服务器通信。"
   ]
  },
  {
   "cell_type": "markdown",
   "id": "e38712dc-d1fd-4ccb-833c-b8fb947bad39",
   "metadata": {},
   "source": [
    "## !!!重要：配置 LanguageTool 本地服务器模式的步骤\n",
    "\n",
    "**首先，检查 Java 环境**\n",
    "\n",
    "确保你的系统中安装了 Java 运行时环境（JRE）或 Java 开发工具包（JDK），因为 LanguageTool 依赖 Java 运行。  \n",
    "运行以下命令检查 Java 是否已安装：  \n",
    "java -version  \n",
    "如果没有安装 Java，请下载并安装 Java SE Runtime Environment (JRE)。  \n",
    "\n",
    "**其次，启动本地 LanguageTool 服务器**  \n",
    "\n",
    "1. 下载 LanguageTool 的离线版本\n",
    "\n",
    "访问 LanguageTool 官方下载页面[https://languagetool.org/download/LanguageTool-stable.zip] ，手动下载最新版本的 LanguageTool ZIP 文件。\n",
    "\n",
    "2. 解压到指定目录\n",
    "\n",
    "将下载的 ZIP 文件解压到指定目录（例如 V:\\20240920\\way1\\LanguageTool-6.5）目录  \n",
    "\n",
    "3. 手动启动 LanguageTool 服务器\n",
    "\n",
    "打开命令行，导航到 LanguageTool 的目录（例如 V:\\20240920\\way1\\LanguageTool-6.5）。  \n",
    "运行命令启动服务器：java -cp languagetool.jar org.languagetool.server.HTTPServer --port 8081 ，这将启动一个本地服务器，监听 8081 端口。  \n",
    "\n",
    "**最后，在代码中连接到本地服务器**  \n",
    "\n",
    "1. 显式指定指定本地服务器的 URL，运行速度慢：\n",
    "language_tool = language_tool_python.LanguageTool('en-us', remote_server='http://localhost:8081/')\n",
    "\n",
    "2. 隐式指定指定缺省的本地服务器的 URL，运行速度快：\n",
    "language_tool = language_tool_python.LanguageTool('en-us')：\r\n",
    "\r\n",
    "python\r"
   ]
  },
  {
   "cell_type": "markdown",
   "id": "e4650a66-c538-4cf0-8dee-9f767943cebc",
   "metadata": {},
   "source": [
    "# v1 微调韩国小姑娘版，速度快"
   ]
  },
  {
   "cell_type": "code",
   "execution_count": 11,
   "id": "96890c46-d469-40d9-9b23-b0969a76d6f5",
   "metadata": {},
   "outputs": [
    {
     "name": "stderr",
     "output_type": "stream",
     "text": [
      "correcting typos: 100%|████████████████████████████████████████████████████████████| 5583/5583 [14:55<00:00,  6.24it/s]\n"
     ]
    }
   ],
   "source": [
    "import pandas as pd\n",
    "from tqdm import tqdm\n",
    "from concurrent.futures import ThreadPoolExecutor, as_completed\n",
    "import language_tool_python\n",
    "\n",
    "# 初始化 LanguageTool,连接到本地服务器\n",
    "language_tool = language_tool_python.LanguageTool('en-us')\n",
    "# language_tool = language_tool_python.LanguageTool('en-us', remote_server='http://localhost:8081/')\n",
    "\n",
    "def correct_spelling(text):\n",
    "    matches = language_tool.check(text)\n",
    "    corrected_text = language_tool_python.utils.correct(text, matches) # 速度快\n",
    "    return corrected_text.lower()\n",
    "\n",
    "def correct_array_with_threads(text_array):\n",
    "    corrected_results = [None] * len(text_array)\n",
    "    with ThreadPoolExecutor(max_workers=8) as executor:\n",
    "        futures = {executor.submit(correct_spelling, str(text)): idx for idx, text in enumerate(text_array)}\n",
    "        for future in tqdm(as_completed(futures), total=len(futures), desc=\"correcting typos\", mininterval=0.5):\n",
    "            idx = futures[future]\n",
    "            try:\n",
    "                corrected_results[idx] = future.result()\n",
    "            except Exception as e:\n",
    "                corrected_results[idx] = text_array[idx]\n",
    "\n",
    "    return corrected_results\n",
    "\n",
    "df = pd.read_csv(r\"V:\\20240920\\way1\\2_processed_data.csv\")\n",
    "\n",
    "text = df[\"processed_text\"]\n",
    "\n",
    "result = correct_array_with_threads(text)\n",
    "\n",
    "# 关闭 LanguageTool\n",
    "language_tool.close()\n",
    "\n",
    "# df.loc[\"processed_text\"] = result   # pandas2.0以后，这行代码有问题，应该改为：df[\"processed_text\"] = result\n",
    "df[\"processed_text\"] = result\n",
    "\n",
    "df.to_csv(r\"V:\\20240920\\way1\\3_correct_text_test.csv\", index=False)"
   ]
  },
  {
   "cell_type": "markdown",
   "id": "140a8c07-65c7-403a-a725-a5a36f1323d0",
   "metadata": {},
   "source": [
    "# v2 deepseek改进版，速度慢"
   ]
  },
  {
   "cell_type": "code",
   "execution_count": null,
   "id": "bfcef214-baf2-466a-939e-ed4a28a576af",
   "metadata": {},
   "outputs": [
    {
     "name": "stderr",
     "output_type": "stream",
     "text": [
      "Correcting typos:   9%|█████▋                                                       | 525/5583 [02:39<25:32,  3.30it/s]\n"
     ]
    }
   ],
   "source": [
    "import pandas as pd\n",
    "from tqdm import tqdm\n",
    "from concurrent.futures import ThreadPoolExecutor, as_completed\n",
    "import language_tool_python\n",
    "\n",
    "# 初始化 LanguageTool,连接到本地服务器\n",
    "language_tool = language_tool_python.LanguageTool('en-us')\n",
    "# language_tool = language_tool_python.LanguageTool('en-us', remote_server='http://localhost:8081/')\n",
    "\n",
    "def correct_spelling(text):\n",
    "    \"\"\"\n",
    "    修正文本中的拼写和语法错误\n",
    "    \"\"\"\n",
    "    matches = language_tool.check(text)\n",
    "    corrected_text = language_tool.correct(text)  # 使用 correct 方法修正文本，速度慢\n",
    "    return corrected_text.lower()  # 返回小写形式的修正文本\n",
    "\n",
    "def correct_array_with_threads(text_array):\n",
    "    \"\"\"\n",
    "    使用多线程修正文本数组\n",
    "    \"\"\"\n",
    "    corrected_results = [None] * len(text_array)\n",
    "    with ThreadPoolExecutor(max_workers=8) as executor:\n",
    "        futures = {executor.submit(correct_spelling, str(text)): idx for idx, text in enumerate(text_array)}\n",
    "        for future in tqdm(as_completed(futures), total=len(futures), desc=\"Correcting typos\"):\n",
    "            idx = futures[future]\n",
    "            try:\n",
    "                corrected_results[idx] = future.result()\n",
    "            except Exception as e:\n",
    "                print(f\"Error processing text at index {idx}: {e}\")\n",
    "                corrected_results[idx] = text_array[idx]  # 如果出错，保留原始文本\n",
    "\n",
    "    return corrected_results\n",
    "\n",
    "# 读取 CSV 文件\n",
    "df = pd.read_csv(r\"V:\\20240920\\way1\\2_processed_data.csv\")\n",
    "\n",
    "# 获取需要处理的文本列\n",
    "text = df[\"processed_text\"].tolist()  # 将 Pandas Series 转换为列表\n",
    "\n",
    "# 使用多线程修正文本\n",
    "result = correct_array_with_threads(text)\n",
    "\n",
    "# 关闭 LanguageTool\n",
    "language_tool.close()\n",
    "\n",
    "# 将修正后的结果写回 DataFrame\n",
    "df[\"processed_text\"] = result  # 直接赋值给列\n",
    "\n",
    "# 保存到新的 CSV 文件\n",
    "df.to_csv(r\"V:\\20240920\\way1\\3_correct_text_test.csv\", index=False)\n"
   ]
  },
  {
   "cell_type": "markdown",
   "id": "cf5971bc-c2fa-44d8-98be-258a79b93274",
   "metadata": {},
   "source": [
    "# V3a 我的改进版-基于deepseek改进版，速度慢\n",
    "增加了：多线程运行的线程数量=CPU线程数量，因为实测发现这样速度快"
   ]
  },
  {
   "cell_type": "code",
   "execution_count": 1,
   "id": "e62d3cc9-7720-42b0-a193-1a38cede660f",
   "metadata": {},
   "outputs": [
    {
     "name": "stderr",
     "output_type": "stream",
     "text": [
      "Correcting typos: 100%|████████████████████████████████████████████████████████████| 5583/5583 [36:53<00:00,  2.52it/s]\n"
     ]
    }
   ],
   "source": [
    "import pandas as pd\n",
    "from tqdm import tqdm\n",
    "from concurrent.futures import ThreadPoolExecutor, as_completed\n",
    "import language_tool_python\n",
    "import multiprocessing\n",
    "\n",
    "# 获取 CPU 的内核数量\n",
    "cpu_count = multiprocessing.cpu_count()\n",
    "thread_count = cpu_count\n",
    "\n",
    "# 初始化 LanguageTool,连接到本地服务器\n",
    "language_tool = language_tool_python.LanguageTool('en-us')\n",
    "# language_tool = language_tool_python.LanguageTool('en-us', remote_server='http://localhost:8081/') \n",
    "\n",
    "# 初始化 LanguageTool\n",
    "# language_tool = language_tool_python.LanguageTool('en-us')\n",
    "\n",
    "def correct_spelling(text):\n",
    "    \"\"\"\n",
    "    修正文本中的拼写和语法错误\n",
    "    \"\"\"\n",
    "    matches = language_tool.check(text)\n",
    "    corrected_text = language_tool.correct(text)  # 使用 correct 方法修正文本，速度慢\n",
    "    return corrected_text.lower()  # 返回小写形式的修正文本\n",
    "\n",
    "def correct_array_with_threads(text_array):\n",
    "    \"\"\"\n",
    "    使用多线程修正文本数组\n",
    "    \"\"\"\n",
    "    corrected_results = [None] * len(text_array)\n",
    "    with ThreadPoolExecutor(max_workers=thread_count) as executor:\n",
    "        futures = {executor.submit(correct_spelling, str(text)): idx for idx, text in enumerate(text_array)}\n",
    "        for future in tqdm(as_completed(futures), total=len(futures), desc=\"Correcting typos\"):\n",
    "            idx = futures[future]\n",
    "            try:\n",
    "                corrected_results[idx] = future.result()\n",
    "            except Exception as e:\n",
    "                print(f\"Error processing text at index {idx}: {e}\")\n",
    "                corrected_results[idx] = text_array[idx]  # 如果出错，保留原始文本\n",
    "\n",
    "    return corrected_results\n",
    "\n",
    "# 读取 CSV 文件\n",
    "df = pd.read_csv(r\"V:\\20240920\\way1\\2_processed_data.csv\")\n",
    "\n",
    "# 获取需要处理的文本列\n",
    "text = df[\"processed_text\"].tolist()  # 将 Pandas Series 转换为列表\n",
    "\n",
    "# 使用多线程修正文本\n",
    "result = correct_array_with_threads(text)\n",
    "\n",
    "# 将修正后的结果写回 DataFrame\n",
    "df[\"processed_text\"] = result  # 直接赋值给列\n",
    "\n",
    "# 保存到新的 CSV 文件\n",
    "df.to_csv(r\"V:\\20240920\\way1\\3_correct_text_test.csv\", index=False)\n",
    "\n",
    "# 关闭 LanguageTool\n",
    "language_tool.close()"
   ]
  },
  {
   "cell_type": "markdown",
   "id": "05a593f8-e6a1-4630-9473-338f6c303cd2",
   "metadata": {},
   "source": [
    "# V3b 我的改进版-基于韩国小姑娘版，速度快\n",
    "增加了：多线程运行的线程数量=CPU线程数量，因为实测发现这样速度快"
   ]
  },
  {
   "cell_type": "code",
   "execution_count": 12,
   "id": "4159d7b7-1cec-4b1c-b498-1360b1540295",
   "metadata": {},
   "outputs": [
    {
     "name": "stderr",
     "output_type": "stream",
     "text": [
      "correcting typos: 100%|████████████████████████████████████████████████████████████| 5583/5583 [07:21<00:00, 12.63it/s]\n"
     ]
    }
   ],
   "source": [
    "import pandas as pd\n",
    "from tqdm import tqdm\n",
    "from concurrent.futures import ThreadPoolExecutor, as_completed\n",
    "import language_tool_python\n",
    "import multiprocessing\n",
    "\n",
    "# 获取 CPU 的内核数量\n",
    "cpu_count = multiprocessing.cpu_count()\n",
    "thread_count = cpu_count\n",
    "\n",
    "# 初始化 LanguageTool,连接到本地服务器\n",
    "language_tool = language_tool_python.LanguageTool('en-us')\n",
    "# language_tool = language_tool_python.LanguageTool('en-us', remote_server='http://localhost:8081/')\n",
    "\n",
    "def correct_spelling(text):\n",
    "    matches = language_tool.check(text)\n",
    "    # corrected_text = language_tool.correct(text)  # 使用 correct 方法修正文本，速度慢\n",
    "    corrected_text = language_tool_python.utils.correct(text, matches) # 速度快\n",
    "    return corrected_text.lower()\n",
    "\n",
    "def correct_array_with_threads(text_array):\n",
    "    corrected_results = [None] * len(text_array)\n",
    "    with ThreadPoolExecutor(max_workers=thread_count) as executor:\n",
    "        futures = {executor.submit(correct_spelling, str(text)): idx for idx, text in enumerate(text_array)}\n",
    "        for future in tqdm(as_completed(futures), total=len(futures), desc=\"correcting typos\", mininterval=0.5):\n",
    "            idx = futures[future]\n",
    "            try:\n",
    "                corrected_results[idx] = future.result()\n",
    "            except Exception as e:\n",
    "                corrected_results[idx] = text_array[idx]\n",
    "\n",
    "    return corrected_results\n",
    "\n",
    "df = pd.read_csv(r\"V:\\20240920\\way1\\2_processed_data.csv\")\n",
    "\n",
    "text = df[\"processed_text\"].tolist()  # 将 Pandas Series 转换为列表\n",
    "\n",
    "result = correct_array_with_threads(text)\n",
    "\n",
    "# 关闭 LanguageTool\n",
    "language_tool.close()\n",
    "\n",
    "# df.loc[\"processed_text\"] = result   # pandas2.0以后，这行代码有问题，应该改为：df[\"processed_text\"] = result\n",
    "df[\"processed_text\"] = result\n",
    "\n",
    "df.to_csv(r\"V:\\20240920\\way1\\3_correct_text_test.csv\", index=False)"
   ]
  },
  {
   "cell_type": "markdown",
   "id": "74ddf8dc-bb28-4095-8ff4-89ec9dc39b73",
   "metadata": {},
   "source": [
    "# test tips"
   ]
  },
  {
   "cell_type": "markdown",
   "id": "c1cb7363-cf2f-4753-99c0-836b913c0b6b",
   "metadata": {},
   "source": [
    "## !!!重要：配置 LanguageTool 本地服务器模式的步骤\n",
    "\n",
    "**首先，检查 Java 环境**\n",
    "\n",
    "确保你的系统中安装了 Java 运行时环境（JRE）或 Java 开发工具包（JDK），因为 LanguageTool 依赖 Java 运行。  \n",
    "运行以下命令检查 Java 是否已安装：  \n",
    "java -version  \n",
    "如果没有安装 Java，请下载并安装 Java SE Runtime Environment (JRE)。  \n",
    "\n",
    "**其次，启动本地 LanguageTool 服务器**  \n",
    "\n",
    "1. 下载 LanguageTool 的离线版本\n",
    "\n",
    "访问 LanguageTool 官方下载页面[https://languagetool.org/download/LanguageTool-stable.zip] ，手动下载最新版本的 LanguageTool ZIP 文件。\n",
    "\n",
    "2. 解压到指定目录\n",
    "\n",
    "将下载的 ZIP 文件解压到指定目录（例如 V:\\20240920\\way1\\LanguageTool-6.5）目录  \n",
    "\n",
    "3. 手动启动 LanguageTool 服务器\n",
    "\n",
    "打开命令行，导航到 LanguageTool 的目录（例如 V:\\20240920\\way1\\LanguageTool-6.5）。  \n",
    "运行命令启动服务器：java -cp languagetool.jar org.languagetool.server.HTTPServer --port 8081 ，这将启动一个本地服务器，监听 8081 端口。  \n",
    "\n",
    "**最后，在代码中连接到本地服务器**  \n",
    "\n",
    "1. 显式指定指定本地服务器的 URL，运行速度慢：\n",
    "language_tool = language_tool_python.LanguageTool('en-us', remote_server='http://localhost:8081/')\n",
    "\n",
    "2. 隐式指定指定缺省的本地服务器的 URL，运行速度快：\n",
    "language_tool = language_tool_python.LanguageTool('en-us')：\r\n",
    "\r\n",
    "python\r"
   ]
  },
  {
   "cell_type": "markdown",
   "id": "463dc365-428d-41ab-aef9-71fd0a716b56",
   "metadata": {},
   "source": [
    "## 2way of correct single sentence"
   ]
  },
  {
   "cell_type": "markdown",
   "id": "d65347c3-e989-459c-9d49-dde5cc6558ad",
   "metadata": {},
   "source": [
    "### my code"
   ]
  },
  {
   "cell_type": "code",
   "execution_count": 7,
   "id": "21aa0b1e-a0d8-45e2-b3d2-4f0372bd2a42",
   "metadata": {},
   "outputs": [
    {
     "name": "stdout",
     "output_type": "stream",
     "text": [
      "\n",
      " ----way 1： use language_tool_python.utils.correct()----\n",
      "Original Text:\n",
      "Ir would help woman and mothers to get better paying jobs in todays marketplaaaaace.\n",
      "\n",
      "Corrected Text:\n",
      "Ir would help woman and mothers to get better paying jobs in today's marketplaaaaace.\n",
      "\n",
      " ----way 2： use language_tool_python.LanguageTool('en-US').correct()----\n",
      "Original Text:\n",
      "Ir would help woman and mothers to get better paying jobs in today's marketplaaaaace.\n",
      "\n",
      "Corrected Text:\n",
      "Ir would help woman and mothers to get better paying jobs in today's marketplaaaaace.\n"
     ]
    }
   ],
   "source": [
    "import language_tool_python\n",
    "\n",
    "# Initialize LanguageTool\n",
    "language_tool = language_tool_python.LanguageTool('en-US')\n",
    "\n",
    "# Input text\n",
    "text = \"Ir would help woman and mothers to get better paying jobs in todays marketplaaaaace.\"\n",
    "\n",
    "## way 1： use language_tool_python.utils.correct()\n",
    "print(\"\\n ----way 1： use language_tool_python.utils.correct()----\")\n",
    "\n",
    "# Check and correct the text\n",
    "matches = language_tool.check(text)\n",
    "corrected_text = language_tool_python.utils.correct(text, matches)\n",
    "\n",
    "# Print the corrected text\n",
    "print(\"Original Text:\")\n",
    "print(text)\n",
    "print(\"\\nCorrected Text:\")\n",
    "print(corrected_text)\n",
    "\n",
    "## way 2： use tool.correct()\n",
    "print(\"\\n ----way 2： use language_tool_python.LanguageTool('en-US').correct()----\")\n",
    "\n",
    "# Initialize LanguageTool\n",
    "language_tool = language_tool_python.LanguageTool('en-US')\n",
    "\n",
    "# Input text\n",
    "text = \"Ir would help woman and mothers to get better paying jobs in today's marketplaaaaace.\"\n",
    "\n",
    "# Check and correct the text\n",
    "matches = language_tool.check(text)\n",
    "corrected_text = language_tool.correct(text)\n",
    "\n",
    "# Print the corrected text\n",
    "print(\"Original Text:\")\n",
    "print(text)\n",
    "print(\"\\nCorrected Text:\")\n",
    "print(corrected_text)\n",
    "\n",
    "# Close LanguageTool\n",
    "tool.close()"
   ]
  },
  {
   "cell_type": "markdown",
   "id": "949fe73a-635e-4314-9864-ead23fd3ff37",
   "metadata": {},
   "source": [
    "### chatGPT version"
   ]
  },
  {
   "cell_type": "code",
   "execution_count": 8,
   "id": "0b5bdfb1-969b-448c-bf9c-3d29c3bd9892",
   "metadata": {},
   "outputs": [
    {
     "name": "stdout",
     "output_type": "stream",
     "text": [
      "Corrected Text: Ir would help woman and mothers to get better paying jobs in today's marketplaaaaace.\n"
     ]
    }
   ],
   "source": [
    "import language_tool_python\n",
    "\n",
    "# Initialize LanguageTool for English (US)\n",
    "tool = language_tool_python.LanguageTool('en-US')\n",
    "\n",
    "# Text with errors\n",
    "text = \"Ir would help woman and mothers to get better paying jobs in todays marketplaaaaace.\"\n",
    "\n",
    "# Check for mistakes\n",
    "matches = tool.check(text)\n",
    "\n",
    "# Correct the text\n",
    "corrected_text = language_tool_python.utils.correct(text, matches)\n",
    "\n",
    "# Print the corrected text\n",
    "print(\"Corrected Text:\", corrected_text)\n",
    "\n",
    "# Close LanguageTool\n",
    "tool.close()"
   ]
  },
  {
   "cell_type": "code",
   "execution_count": 7,
   "id": "33f8cf09-b02e-4b55-abda-7dd3cb87d05e",
   "metadata": {},
   "outputs": [],
   "source": [
    "language_tool = language_tool_python.LanguageTool('en-us')"
   ]
  },
  {
   "cell_type": "code",
   "execution_count": null,
   "id": "8a9d2178-5fc3-4c52-9161-034494413f1c",
   "metadata": {},
   "outputs": [],
   "source": [
    "# 关闭 LanguageTool\n",
    "language_tool.close()"
   ]
  },
  {
   "cell_type": "markdown",
   "id": "5d28e6b8-53ad-4215-b3f4-9021068b7d1b",
   "metadata": {},
   "source": [
    "### TextBlob"
   ]
  },
  {
   "cell_type": "code",
   "execution_count": 9,
   "id": "75493bb7-3b66-4fde-bd29-985c132250ff",
   "metadata": {},
   "outputs": [
    {
     "name": "stdout",
     "output_type": "stream",
     "text": [
      "Corrected Text: Or would help woman and mothers to get better paying jobs in today marketplaaaaace.\n"
     ]
    }
   ],
   "source": [
    "from textblob import TextBlob\n",
    "\n",
    "# Text with errors\n",
    "text = \"Ir would help woman and mothers to get better paying jobs in todays marketplaaaaace.\"\n",
    "\n",
    "# Create a TextBlob object\n",
    "blob = TextBlob(text)\n",
    "\n",
    "# Correct the text\n",
    "corrected_text = blob.correct()\n",
    "\n",
    "# Print the corrected text\n",
    "print(\"Corrected Text:\", corrected_text)\n"
   ]
  },
  {
   "cell_type": "markdown",
   "id": "5096fae7-c86c-426f-b6fa-2ea0cf6db54d",
   "metadata": {},
   "source": [
    "### first language_tool_python for grammar checks then TextBlob for spelling corrections."
   ]
  },
  {
   "cell_type": "code",
   "execution_count": 10,
   "id": "ca43e698-aefc-479b-9c95-7a2193b14415",
   "metadata": {},
   "outputs": [
    {
     "name": "stdout",
     "output_type": "stream",
     "text": [
      "Final Corrected Text: Or would help woman and mothers to get better paying jobs in today's marketplaaaaace.\n"
     ]
    }
   ],
   "source": [
    "import language_tool_python\n",
    "from textblob import TextBlob\n",
    "\n",
    "# Initialize LanguageTool for English (US)\n",
    "tool = language_tool_python.LanguageTool('en-US')\n",
    "\n",
    "# Text with errors\n",
    "text = \"Ir would help woman and mothers to get better paying jobs in todays marketplaaaaace.\"\n",
    "\n",
    "# Step 1: Use language_tool_python to check and fix grammar issues\n",
    "matches = tool.check(text)\n",
    "corrected_text = language_tool_python.utils.correct(text, matches)\n",
    "\n",
    "# Step 2: Use TextBlob to correct spelling\n",
    "blob = TextBlob(corrected_text)\n",
    "final_corrected_text = blob.correct()\n",
    "\n",
    "# Print the final corrected text\n",
    "print(\"Final Corrected Text:\", final_corrected_text)\n"
   ]
  },
  {
   "cell_type": "markdown",
   "id": "5d646b03-47ba-48aa-8578-bcd3717f8ec4",
   "metadata": {},
   "source": [
    "### first spelling with TextBlob then apply language_tool_python for grammar corrections"
   ]
  },
  {
   "cell_type": "code",
   "execution_count": 11,
   "id": "e884b436-cbb6-4c75-944f-3012c81b2b7b",
   "metadata": {},
   "outputs": [
    {
     "name": "stdout",
     "output_type": "stream",
     "text": [
      "Final Corrected Text: Or would help woman and mothers to get better paying jobs in today marketplaaaaace.\n"
     ]
    }
   ],
   "source": [
    "import language_tool_python\n",
    "from textblob import TextBlob\n",
    "\n",
    "# Initialize LanguageTool for English (US)\n",
    "tool = language_tool_python.LanguageTool('en-US')\n",
    "\n",
    "# Text with errors\n",
    "text = \"Ir would help woman and mothers to get better paying jobs in todays marketplaaaaace.\"\n",
    "\n",
    "# Step 1: Use TextBlob to fix spelling mistakes\n",
    "blob = TextBlob(text)\n",
    "corrected_spelling_text = str(blob.correct())\n",
    "\n",
    "# Step 2: Use language_tool_python for grammar issues (after spelling correction)\n",
    "matches = tool.check(corrected_spelling_text)\n",
    "final_corrected_text = language_tool_python.utils.correct(corrected_spelling_text, matches)\n",
    "\n",
    "# Print the final corrected text\n",
    "print(\"Final Corrected Text:\", final_corrected_text)\n"
   ]
  },
  {
   "cell_type": "code",
   "execution_count": null,
   "id": "b5bf22d0-2876-459b-9d27-bab56009c962",
   "metadata": {},
   "outputs": [],
   "source": []
  }
 ],
 "metadata": {
  "kernelspec": {
   "display_name": "Python 3 (ipykernel)",
   "language": "python",
   "name": "python3"
  },
  "language_info": {
   "codemirror_mode": {
    "name": "ipython",
    "version": 3
   },
   "file_extension": ".py",
   "mimetype": "text/x-python",
   "name": "python",
   "nbconvert_exporter": "python",
   "pygments_lexer": "ipython3",
   "version": "3.12.3"
  }
 },
 "nbformat": 4,
 "nbformat_minor": 5
}
